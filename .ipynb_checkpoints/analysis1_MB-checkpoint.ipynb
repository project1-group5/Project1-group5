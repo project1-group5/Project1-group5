{
 "cells": [
  {
   "cell_type": "code",
   "execution_count": 1,
   "metadata": {},
   "outputs": [],
   "source": [
    "# dependencies\n",
    "import pandas as pd\n",
    "import os\n",
    "import matplotlib.pyplot as plt"
   ]
  },
  {
   "cell_type": "code",
   "execution_count": 2,
   "metadata": {},
   "outputs": [
    {
     "name": "stderr",
     "output_type": "stream",
     "text": [
      "C:\\Users\\Honky\\Anaconda3\\lib\\site-packages\\IPython\\core\\interactiveshell.py:2785: DtypeWarning: Columns (25,26,36) have mixed types. Specify dtype option on import or set low_memory=False.\n",
      "  interactivity=interactivity, compiler=compiler, result=result)\n"
     ]
    }
   ],
   "source": [
    "# csv path saved to variable-- will need to chaange the final directory\n",
    "data = \"~/Desktop/Construction_Permits_Issued_since_2010.csv\"\n",
    "\n",
    "# Read and display the CSV with Pandas\n",
    "development_data_pd = pd.read_csv(data)\n"
   ]
  },
  {
   "cell_type": "code",
   "execution_count": 3,
   "metadata": {},
   "outputs": [],
   "source": [
    "# filter to past 5 years\n",
    "filtered_5y_DF = development_data_pd.loc[development_data_pd['CalendarYearIssued'] >= 2013, : ]\n"
   ]
  },
  {
   "cell_type": "code",
   "execution_count": 4,
   "metadata": {},
   "outputs": [
    {
     "data": {
      "text/plain": [
       "Final                              299299\n",
       "Active                              35433\n",
       "Expired                             27479\n",
       "Withdrawn                            4093\n",
       "VOID                                 2362\n",
       "Inactive Pending Revision              94\n",
       "Cancelled - Contractor Required        93\n",
       "Aborted                                50\n",
       "Closed                                 19\n",
       "On Hold                                13\n",
       "Pending                                13\n",
       "Pending Permit                         12\n",
       "Cancelled                               9\n",
       "Suspended                               5\n",
       "Revoked                                 1\n",
       "Cancelled - New Permit Required         1\n",
       "Name: StatusCurrent, dtype: int64"
      ]
     },
     "execution_count": 4,
     "metadata": {},
     "output_type": "execute_result"
    }
   ],
   "source": [
    "# breakdown of project permit status\n",
    "# Christian to visualize this into a bar chart\n",
    "filtered_5y_DF['StatusCurrent'].value_counts()"
   ]
  },
  {
   "cell_type": "code",
   "execution_count": 5,
   "metadata": {},
   "outputs": [
    {
     "name": "stderr",
     "output_type": "stream",
     "text": [
      "C:\\Users\\Honky\\Anaconda3\\lib\\site-packages\\ipykernel_launcher.py:27: SettingWithCopyWarning: \n",
      "A value is trying to be set on a copy of a slice from a DataFrame.\n",
      "Try using .loc[row_indexer,col_indexer] = value instead\n",
      "\n",
      "See the caveats in the documentation: http://pandas.pydata.org/pandas-docs/stable/indexing.html#indexing-view-versus-copy\n",
      "C:\\Users\\Honky\\Anaconda3\\lib\\site-packages\\ipykernel_launcher.py:28: SettingWithCopyWarning: \n",
      "A value is trying to be set on a copy of a slice from a DataFrame.\n",
      "Try using .loc[row_indexer,col_indexer] = value instead\n",
      "\n",
      "See the caveats in the documentation: http://pandas.pydata.org/pandas-docs/stable/indexing.html#indexing-view-versus-copy\n"
     ]
    },
    {
     "data": {
      "text/html": [
       "<div>\n",
       "<style scoped>\n",
       "    .dataframe tbody tr th:only-of-type {\n",
       "        vertical-align: middle;\n",
       "    }\n",
       "\n",
       "    .dataframe tbody tr th {\n",
       "        vertical-align: top;\n",
       "    }\n",
       "\n",
       "    .dataframe thead th {\n",
       "        text-align: right;\n",
       "    }\n",
       "</style>\n",
       "<table border=\"1\" class=\"dataframe\">\n",
       "  <thead>\n",
       "    <tr style=\"text-align: right;\">\n",
       "      <th></th>\n",
       "      <th>PermitTypeDesc</th>\n",
       "      <th>PermitClass</th>\n",
       "      <th>WorkClass</th>\n",
       "      <th>Condominium</th>\n",
       "      <th>IssuedDate</th>\n",
       "      <th>CalendarYearIssued</th>\n",
       "      <th>StatusCurrent</th>\n",
       "      <th>OriginalAddress1</th>\n",
       "      <th>OriginalCity</th>\n",
       "      <th>OriginalZip</th>\n",
       "      <th>ProjectID</th>\n",
       "      <th>Latitude</th>\n",
       "      <th>Longitude</th>\n",
       "      <th>Location</th>\n",
       "      <th>PermitClass_Commercial</th>\n",
       "      <th>PermitClass_Residential</th>\n",
       "    </tr>\n",
       "  </thead>\n",
       "  <tbody>\n",
       "    <tr>\n",
       "      <th>0</th>\n",
       "      <td>Electrical Permit</td>\n",
       "      <td>C-1000 Commercial Remodel</td>\n",
       "      <td>Remodel</td>\n",
       "      <td>No</td>\n",
       "      <td>12/3/2013</td>\n",
       "      <td>2013</td>\n",
       "      <td>Final</td>\n",
       "      <td>505 E 7TH ST</td>\n",
       "      <td>AUSTIN</td>\n",
       "      <td>78701.0</td>\n",
       "      <td>11054257</td>\n",
       "      <td>30.267353</td>\n",
       "      <td>-97.737534</td>\n",
       "      <td>(30.26735287, -97.73753437)</td>\n",
       "      <td>True</td>\n",
       "      <td>False</td>\n",
       "    </tr>\n",
       "    <tr>\n",
       "      <th>1</th>\n",
       "      <td>Electrical Permit</td>\n",
       "      <td>Commercial</td>\n",
       "      <td>Remodel</td>\n",
       "      <td>No</td>\n",
       "      <td>11/6/2013</td>\n",
       "      <td>2013</td>\n",
       "      <td>Final</td>\n",
       "      <td>4807 BURNET RD</td>\n",
       "      <td>AUSTIN</td>\n",
       "      <td>78756.0</td>\n",
       "      <td>11045752</td>\n",
       "      <td>30.319080</td>\n",
       "      <td>-97.738850</td>\n",
       "      <td>(30.31908046, -97.73885014)</td>\n",
       "      <td>True</td>\n",
       "      <td>False</td>\n",
       "    </tr>\n",
       "    <tr>\n",
       "      <th>2</th>\n",
       "      <td>Electrical Permit</td>\n",
       "      <td>R- 435 Renovations/Remodel</td>\n",
       "      <td>Remodel</td>\n",
       "      <td>No</td>\n",
       "      <td>11/6/2013</td>\n",
       "      <td>2013</td>\n",
       "      <td>Final</td>\n",
       "      <td>4930 TRAIL WEST DR</td>\n",
       "      <td>AUSTIN</td>\n",
       "      <td>78735.0</td>\n",
       "      <td>11040470</td>\n",
       "      <td>30.250061</td>\n",
       "      <td>-97.830968</td>\n",
       "      <td>(30.2500614, -97.8309677)</td>\n",
       "      <td>False</td>\n",
       "      <td>True</td>\n",
       "    </tr>\n",
       "    <tr>\n",
       "      <th>3</th>\n",
       "      <td>Electrical Permit</td>\n",
       "      <td>R- 435 Renovations/Remodel</td>\n",
       "      <td>Remodel</td>\n",
       "      <td>No</td>\n",
       "      <td>10/15/2013</td>\n",
       "      <td>2013</td>\n",
       "      <td>Final</td>\n",
       "      <td>5613 BENTSEN LN</td>\n",
       "      <td>AUSTIN</td>\n",
       "      <td>78723.0</td>\n",
       "      <td>11029305</td>\n",
       "      <td>30.289303</td>\n",
       "      <td>-97.669189</td>\n",
       "      <td>(30.2893035, -97.66918872)</td>\n",
       "      <td>False</td>\n",
       "      <td>True</td>\n",
       "    </tr>\n",
       "    <tr>\n",
       "      <th>4</th>\n",
       "      <td>Electrical Permit</td>\n",
       "      <td>C-1000 Commercial Remodel</td>\n",
       "      <td>Remodel</td>\n",
       "      <td>No</td>\n",
       "      <td>10/25/2013</td>\n",
       "      <td>2013</td>\n",
       "      <td>Final</td>\n",
       "      <td>9600 CIRCLE DR</td>\n",
       "      <td>AUSTIN</td>\n",
       "      <td>78736.0</td>\n",
       "      <td>11027514</td>\n",
       "      <td>30.243261</td>\n",
       "      <td>-97.922837</td>\n",
       "      <td>(30.24326144, -97.92283706)</td>\n",
       "      <td>True</td>\n",
       "      <td>False</td>\n",
       "    </tr>\n",
       "  </tbody>\n",
       "</table>\n",
       "</div>"
      ],
      "text/plain": [
       "      PermitTypeDesc                 PermitClass WorkClass Condominium  \\\n",
       "0  Electrical Permit   C-1000 Commercial Remodel   Remodel          No   \n",
       "1  Electrical Permit                  Commercial   Remodel          No   \n",
       "2  Electrical Permit  R- 435 Renovations/Remodel   Remodel          No   \n",
       "3  Electrical Permit  R- 435 Renovations/Remodel   Remodel          No   \n",
       "4  Electrical Permit   C-1000 Commercial Remodel   Remodel          No   \n",
       "\n",
       "   IssuedDate  CalendarYearIssued StatusCurrent    OriginalAddress1  \\\n",
       "0   12/3/2013                2013         Final        505 E 7TH ST   \n",
       "1   11/6/2013                2013         Final      4807 BURNET RD   \n",
       "2   11/6/2013                2013         Final  4930 TRAIL WEST DR   \n",
       "3  10/15/2013                2013         Final     5613 BENTSEN LN   \n",
       "4  10/25/2013                2013         Final      9600 CIRCLE DR   \n",
       "\n",
       "  OriginalCity  OriginalZip  ProjectID   Latitude  Longitude  \\\n",
       "0       AUSTIN      78701.0   11054257  30.267353 -97.737534   \n",
       "1       AUSTIN      78756.0   11045752  30.319080 -97.738850   \n",
       "2       AUSTIN      78735.0   11040470  30.250061 -97.830968   \n",
       "3       AUSTIN      78723.0   11029305  30.289303 -97.669189   \n",
       "4       AUSTIN      78736.0   11027514  30.243261 -97.922837   \n",
       "\n",
       "                      Location PermitClass_Commercial PermitClass_Residential  \n",
       "0  (30.26735287, -97.73753437)                   True                   False  \n",
       "1  (30.31908046, -97.73885014)                   True                   False  \n",
       "2    (30.2500614, -97.8309677)                  False                    True  \n",
       "3   (30.2893035, -97.66918872)                  False                    True  \n",
       "4  (30.24326144, -97.92283706)                   True                   False  "
      ]
     },
     "execution_count": 5,
     "metadata": {},
     "output_type": "execute_result"
    }
   ],
   "source": [
    "# Reduce data points\n",
    "reduced_5yr_DF = filtered_5y_DF[[\n",
    "    'PermitTypeDesc', \n",
    "    'PermitClass', \n",
    "    'WorkClass', \n",
    "    'Condominium', \n",
    "    'IssuedDate', \n",
    "    'CalendarYearIssued', \n",
    "    'StatusCurrent',\n",
    "    'OriginalAddress1',\n",
    "    'OriginalCity',\n",
    "    'OriginalZip',\n",
    "    'ProjectID',\n",
    "    'Latitude',\n",
    "    'Longitude',\n",
    "    'Location']]\n",
    "\n",
    "# filter data to 'StatusSurrent = Final' for analyses of COMPLETED PROJECTS\n",
    "# reset index and drop original index\n",
    "filter_status = reduced_5yr_DF.loc[reduced_5yr_DF['StatusCurrent'] == 'Final', : ].reset_index(drop=True)\n",
    "\n",
    "# filtered out 'sign permits'\n",
    "final_5y_DF = filter_status.loc[filter_status['PermitClass'] != 'Sign Permit', : ]\n",
    "\n",
    "# re-code 'permitClass' to standardized values\n",
    "# this creates 1 new series coded with T/F for 'begins with C'\n",
    "final_5y_DF['PermitClass_Commercial'] = final_5y_DF.PermitClass.str.startswith('C')\n",
    "final_5y_DF['PermitClass_Residential'] = final_5y_DF.PermitClass.str.startswith('R')\n",
    "\n",
    "final_5y_DF.head()"
   ]
  },
  {
   "cell_type": "code",
   "execution_count": 6,
   "metadata": {},
   "outputs": [
    {
     "data": {
      "text/plain": [
       "CalendarYearIssued\n",
       "2013    17176\n",
       "2014    15594\n",
       "2015    15707\n",
       "2016    13957\n",
       "2017    12338\n",
       "2018     4610\n",
       "Name: PermitClass_Commercial, dtype: int64"
      ]
     },
     "execution_count": 6,
     "metadata": {},
     "output_type": "execute_result"
    }
   ],
   "source": [
    "# Set the 'CalendarYearIssued' to be our index for easy referencing of rows\n",
    "commercial_df = final_5y_DF.loc[final_5y_DF['PermitClass_Commercial'] == True, : ]\n",
    "commercial_grouped = commercial_df.groupby(\"CalendarYearIssued\")\n",
    "comm_count = commercial_grouped['PermitClass_Commercial'].count()\n",
    "comm_list = comm_count.tolist()\n",
    "years = comm_count.keys()\n",
    "\n",
    "comm_count"
   ]
  },
  {
   "cell_type": "code",
   "execution_count": 7,
   "metadata": {},
   "outputs": [
    {
     "data": {
      "image/png": "[encoded data removed]",
      "text/plain": [
       "<Figure size 432x288 with 1 Axes>"
      ]
     },
     "metadata": {},
     "output_type": "display_data"
    }
   ],
   "source": [
    "plt.plot(years, comm_list)\n",
    "plt.xlabel(\"years\")\n",
    "plt.ylabel(\"Commercial Projects\")\n",
    "plt.show()"
   ]
  },
  {
   "cell_type": "code",
   "execution_count": null,
   "metadata": {},
   "outputs": [],
   "source": []
  }
 ],
 "metadata": {
  "kernelspec": {
   "display_name": "Python 3",
   "language": "python",
   "name": "python3"
  },
  "language_info": {
   "codemirror_mode": {
    "name": "ipython",
    "version": 3
   },
   "file_extension": ".py",
   "mimetype": "text/x-python",
   "name": "python",
   "nbconvert_exporter": "python",
   "pygments_lexer": "ipython3",
   "version": "3.6.5"
  }
 },
 "nbformat": 4,
 "nbformat_minor": 2
}
