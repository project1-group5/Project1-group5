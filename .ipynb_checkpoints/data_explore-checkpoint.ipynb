{
 "cells": [
  {
   "cell_type": "markdown",
   "metadata": {},
   "source": [
    "# Austin Area Real Estate Development Since 2013\n",
    "\n",
    "## Data import and cleanup"
   ]
  },
  {
   "cell_type": "code",
   "execution_count": 1,
   "metadata": {},
   "outputs": [],
   "source": [
    "# dependencies\n",
    "%matplotlib inline\n",
    "import pandas as pd\n",
    "import os\n",
    "import matplotlib.pyplot as plt\n",
    "import gmaps\n",
    "import numpy as np"
   ]
  },
  {
   "cell_type": "markdown",
   "metadata": {},
   "source": [
    "## Read in Austin.gov data using Pandas"
   ]
  },
  {
   "cell_type": "code",
   "execution_count": 4,
   "metadata": {},
   "outputs": [
    {
     "name": "stderr",
     "output_type": "stream",
     "text": [
      "C:\\Users\\Honky\\Anaconda3\\lib\\site-packages\\IPython\\core\\interactiveshell.py:2785: DtypeWarning: Columns (25,26,36) have mixed types. Specify dtype option on import or set low_memory=False.\n",
      "  interactivity=interactivity, compiler=compiler, result=result)\n"
     ]
    },
    {
     "data": {
      "text/plain": [
       "['PermitType',\n",
       " 'PermitTypeDesc',\n",
       " 'PermitNum',\n",
       " 'PermitClass',\n",
       " 'WorkClass',\n",
       " 'Condominium',\n",
       " 'ProjectName',\n",
       " 'Description',\n",
       " 'TCAD_ID',\n",
       " 'PropertyLegalDescription',\n",
       " 'AppliedDate',\n",
       " 'IssuedDate',\n",
       " 'DayIssued',\n",
       " 'CalendarYearIssued',\n",
       " 'FiscalYearIssued',\n",
       " 'IssuedInLast30Days',\n",
       " 'IssuanceMethod',\n",
       " 'StatusCurrent',\n",
       " 'ExpiresDate',\n",
       " 'CompletedDate',\n",
       " 'TotalExistingBldgSQFT',\n",
       " 'RemodelRepairSQFT',\n",
       " 'TotalNewAddSQFT',\n",
       " 'TotalValuationRemodel',\n",
       " 'TotalJobValuation',\n",
       " 'NumberOfFloors',\n",
       " 'HousingUnits',\n",
       " 'BuildingValuation',\n",
       " 'BuildingValuationRemodel',\n",
       " 'ElectricalValuation',\n",
       " 'ElectricalValuationRemodel',\n",
       " 'MechanicalValuation',\n",
       " 'MechanicalValuationRemodel',\n",
       " 'PlumbingValuation',\n",
       " 'PlumbingValuationRemodel',\n",
       " 'MedGasValuation',\n",
       " 'MedGasValuationRemodel',\n",
       " 'OriginalAddress1',\n",
       " 'OriginalCity',\n",
       " 'OriginalState',\n",
       " 'OriginalZip',\n",
       " 'CouncilDistrict',\n",
       " 'Jurisdiction',\n",
       " 'Link',\n",
       " 'ProjectID',\n",
       " 'Latitude',\n",
       " 'Longitude',\n",
       " 'Location']"
      ]
     },
     "execution_count": 4,
     "metadata": {},
     "output_type": "execute_result"
    }
   ],
   "source": [
    "# csv path saved to variable-- will need to change the final directory\n",
    "# data = \"../Resources/Construction_Permits_Issued_since_2010.csv\"\n",
    "\n",
    "# alternative csv path-- reading in from desktop\n",
    "data = \"~/Desktop/Construction_Permits_Issued_since_2010.csv\"\n",
    "\n",
    "# Read and display the CSV with Pandas\n",
    "development_data_pd = pd.read_csv(data)\n",
    "list(development_data_pd)"
   ]
  },
  {
   "cell_type": "code",
   "execution_count": 5,
   "metadata": {},
   "outputs": [
    {
     "data": {
      "text/html": [
       "<div>\n",
       "<style scoped>\n",
       "    .dataframe tbody tr th:only-of-type {\n",
       "        vertical-align: middle;\n",
       "    }\n",
       "\n",
       "    .dataframe tbody tr th {\n",
       "        vertical-align: top;\n",
       "    }\n",
       "\n",
       "    .dataframe thead th {\n",
       "        text-align: right;\n",
       "    }\n",
       "</style>\n",
       "<table border=\"1\" class=\"dataframe\">\n",
       "  <thead>\n",
       "    <tr style=\"text-align: right;\">\n",
       "      <th></th>\n",
       "      <th>PermitType</th>\n",
       "      <th>PermitTypeDesc</th>\n",
       "      <th>PermitNum</th>\n",
       "      <th>PermitClass</th>\n",
       "      <th>WorkClass</th>\n",
       "      <th>Condominium</th>\n",
       "      <th>ProjectName</th>\n",
       "      <th>Description</th>\n",
       "      <th>TCAD_ID</th>\n",
       "      <th>PropertyLegalDescription</th>\n",
       "      <th>...</th>\n",
       "      <th>OriginalCity</th>\n",
       "      <th>OriginalState</th>\n",
       "      <th>OriginalZip</th>\n",
       "      <th>CouncilDistrict</th>\n",
       "      <th>Jurisdiction</th>\n",
       "      <th>Link</th>\n",
       "      <th>ProjectID</th>\n",
       "      <th>Latitude</th>\n",
       "      <th>Longitude</th>\n",
       "      <th>Location</th>\n",
       "    </tr>\n",
       "  </thead>\n",
       "  <tbody>\n",
       "    <tr>\n",
       "      <th>0</th>\n",
       "      <td>EP</td>\n",
       "      <td>Electrical Permit</td>\n",
       "      <td>2010-110080 EP</td>\n",
       "      <td>Residential</td>\n",
       "      <td>Repair</td>\n",
       "      <td>No</td>\n",
       "      <td>2011 PEACH TREE ST</td>\n",
       "      <td>Temp elec pole ref permit2010105501</td>\n",
       "      <td>102070410</td>\n",
       "      <td>LOT 6 PECAN ORCHARD</td>\n",
       "      <td>...</td>\n",
       "      <td>AUSTIN</td>\n",
       "      <td>TX</td>\n",
       "      <td>78704.0</td>\n",
       "      <td>5.0</td>\n",
       "      <td>AUSTIN FULL PURPOSE</td>\n",
       "      <td>https://abc.austintexas.gov/web/permit/public-...</td>\n",
       "      <td>10530092</td>\n",
       "      <td>30.254727</td>\n",
       "      <td>-97.773385</td>\n",
       "      <td>(30.25472685, -97.77338477)</td>\n",
       "    </tr>\n",
       "    <tr>\n",
       "      <th>1</th>\n",
       "      <td>PP</td>\n",
       "      <td>Plumbing Permit</td>\n",
       "      <td>2010-105077 PP</td>\n",
       "      <td>C-1000 Commercial Remodel</td>\n",
       "      <td>Remodel</td>\n",
       "      <td>No</td>\n",
       "      <td>601 E BEN WHITE BLVD EB</td>\n",
       "      <td>Change of use and Interior remodel from Retail...</td>\n",
       "      <td>411020601</td>\n",
       "      <td>LOT 12 WAGESDAVISSTURDIVANT CENTER</td>\n",
       "      <td>...</td>\n",
       "      <td>AUSTIN</td>\n",
       "      <td>TX</td>\n",
       "      <td>78745.0</td>\n",
       "      <td>3.0</td>\n",
       "      <td>AUSTIN FULL PURPOSE</td>\n",
       "      <td>https://abc.austintexas.gov/web/permit/public-...</td>\n",
       "      <td>10523892</td>\n",
       "      <td>30.218111</td>\n",
       "      <td>-97.757131</td>\n",
       "      <td>(30.21811054, -97.7571306)</td>\n",
       "    </tr>\n",
       "    <tr>\n",
       "      <th>2</th>\n",
       "      <td>MP</td>\n",
       "      <td>Mechanical Permit</td>\n",
       "      <td>2010-105077 MP</td>\n",
       "      <td>C-1000 Commercial Remodel</td>\n",
       "      <td>Remodel</td>\n",
       "      <td>No</td>\n",
       "      <td>601 E BEN WHITE BLVD EB</td>\n",
       "      <td>Change of use and Interior remodel from Retail...</td>\n",
       "      <td>411020601</td>\n",
       "      <td>LOT 12 WAGESDAVISSTURDIVANT CENTER</td>\n",
       "      <td>...</td>\n",
       "      <td>AUSTIN</td>\n",
       "      <td>TX</td>\n",
       "      <td>78745.0</td>\n",
       "      <td>3.0</td>\n",
       "      <td>AUSTIN FULL PURPOSE</td>\n",
       "      <td>https://abc.austintexas.gov/web/permit/public-...</td>\n",
       "      <td>10523891</td>\n",
       "      <td>30.218111</td>\n",
       "      <td>-97.757131</td>\n",
       "      <td>(30.21811054, -97.7571306)</td>\n",
       "    </tr>\n",
       "    <tr>\n",
       "      <th>3</th>\n",
       "      <td>EP</td>\n",
       "      <td>Electrical Permit</td>\n",
       "      <td>2010-105077 EP</td>\n",
       "      <td>C-1000 Commercial Remodel</td>\n",
       "      <td>Remodel</td>\n",
       "      <td>No</td>\n",
       "      <td>601 E BEN WHITE BLVD EB</td>\n",
       "      <td>Change of use and Interior remodel from Retail...</td>\n",
       "      <td>411020601</td>\n",
       "      <td>LOT 12 WAGESDAVISSTURDIVANT CENTER</td>\n",
       "      <td>...</td>\n",
       "      <td>AUSTIN</td>\n",
       "      <td>TX</td>\n",
       "      <td>78745.0</td>\n",
       "      <td>3.0</td>\n",
       "      <td>AUSTIN FULL PURPOSE</td>\n",
       "      <td>https://abc.austintexas.gov/web/permit/public-...</td>\n",
       "      <td>10523890</td>\n",
       "      <td>30.218111</td>\n",
       "      <td>-97.757131</td>\n",
       "      <td>(30.21811054, -97.7571306)</td>\n",
       "    </tr>\n",
       "    <tr>\n",
       "      <th>4</th>\n",
       "      <td>BP</td>\n",
       "      <td>Building Permit</td>\n",
       "      <td>2010-105077 BP</td>\n",
       "      <td>C-1000 Commercial Remodel</td>\n",
       "      <td>Remodel</td>\n",
       "      <td>No</td>\n",
       "      <td>601 E BEN WHITE BLVD EB</td>\n",
       "      <td>Change of use and Interior remodel from Retail...</td>\n",
       "      <td>411020601</td>\n",
       "      <td>LOT 12 WAGESDAVISSTURDIVANT CENTER</td>\n",
       "      <td>...</td>\n",
       "      <td>AUSTIN</td>\n",
       "      <td>TX</td>\n",
       "      <td>78745.0</td>\n",
       "      <td>3.0</td>\n",
       "      <td>AUSTIN FULL PURPOSE</td>\n",
       "      <td>https://abc.austintexas.gov/web/permit/public-...</td>\n",
       "      <td>10523888</td>\n",
       "      <td>30.218111</td>\n",
       "      <td>-97.757131</td>\n",
       "      <td>(30.21811054, -97.7571306)</td>\n",
       "    </tr>\n",
       "  </tbody>\n",
       "</table>\n",
       "<p>5 rows × 48 columns</p>\n",
       "</div>"
      ],
      "text/plain": [
       "  PermitType     PermitTypeDesc       PermitNum                PermitClass  \\\n",
       "0         EP  Electrical Permit  2010-110080 EP                Residential   \n",
       "1         PP    Plumbing Permit  2010-105077 PP  C-1000 Commercial Remodel   \n",
       "2         MP  Mechanical Permit  2010-105077 MP  C-1000 Commercial Remodel   \n",
       "3         EP  Electrical Permit  2010-105077 EP  C-1000 Commercial Remodel   \n",
       "4         BP    Building Permit  2010-105077 BP  C-1000 Commercial Remodel   \n",
       "\n",
       "  WorkClass Condominium              ProjectName  \\\n",
       "0    Repair          No       2011 PEACH TREE ST   \n",
       "1   Remodel          No  601 E BEN WHITE BLVD EB   \n",
       "2   Remodel          No  601 E BEN WHITE BLVD EB   \n",
       "3   Remodel          No  601 E BEN WHITE BLVD EB   \n",
       "4   Remodel          No  601 E BEN WHITE BLVD EB   \n",
       "\n",
       "                                         Description    TCAD_ID  \\\n",
       "0                Temp elec pole ref permit2010105501  102070410   \n",
       "1  Change of use and Interior remodel from Retail...  411020601   \n",
       "2  Change of use and Interior remodel from Retail...  411020601   \n",
       "3  Change of use and Interior remodel from Retail...  411020601   \n",
       "4  Change of use and Interior remodel from Retail...  411020601   \n",
       "\n",
       "             PropertyLegalDescription             ...               \\\n",
       "0                 LOT 6 PECAN ORCHARD             ...                \n",
       "1  LOT 12 WAGESDAVISSTURDIVANT CENTER             ...                \n",
       "2  LOT 12 WAGESDAVISSTURDIVANT CENTER             ...                \n",
       "3  LOT 12 WAGESDAVISSTURDIVANT CENTER             ...                \n",
       "4  LOT 12 WAGESDAVISSTURDIVANT CENTER             ...                \n",
       "\n",
       "  OriginalCity OriginalState OriginalZip  CouncilDistrict  \\\n",
       "0       AUSTIN            TX     78704.0              5.0   \n",
       "1       AUSTIN            TX     78745.0              3.0   \n",
       "2       AUSTIN            TX     78745.0              3.0   \n",
       "3       AUSTIN            TX     78745.0              3.0   \n",
       "4       AUSTIN            TX     78745.0              3.0   \n",
       "\n",
       "          Jurisdiction                                               Link  \\\n",
       "0  AUSTIN FULL PURPOSE  https://abc.austintexas.gov/web/permit/public-...   \n",
       "1  AUSTIN FULL PURPOSE  https://abc.austintexas.gov/web/permit/public-...   \n",
       "2  AUSTIN FULL PURPOSE  https://abc.austintexas.gov/web/permit/public-...   \n",
       "3  AUSTIN FULL PURPOSE  https://abc.austintexas.gov/web/permit/public-...   \n",
       "4  AUSTIN FULL PURPOSE  https://abc.austintexas.gov/web/permit/public-...   \n",
       "\n",
       "  ProjectID   Latitude  Longitude                     Location  \n",
       "0  10530092  30.254727 -97.773385  (30.25472685, -97.77338477)  \n",
       "1  10523892  30.218111 -97.757131   (30.21811054, -97.7571306)  \n",
       "2  10523891  30.218111 -97.757131   (30.21811054, -97.7571306)  \n",
       "3  10523890  30.218111 -97.757131   (30.21811054, -97.7571306)  \n",
       "4  10523888  30.218111 -97.757131   (30.21811054, -97.7571306)  \n",
       "\n",
       "[5 rows x 48 columns]"
      ]
     },
     "execution_count": 5,
     "metadata": {},
     "output_type": "execute_result"
    }
   ],
   "source": [
    "development_data_pd.head()"
   ]
  },
  {
   "cell_type": "markdown",
   "metadata": {},
   "source": [
    "## Filter data to projects from past 5 years"
   ]
  },
  {
   "cell_type": "code",
   "execution_count": 9,
   "metadata": {},
   "outputs": [
    {
     "data": {
      "text/plain": [
       "2017    69271\n",
       "2016    66750\n",
       "2015    62619\n",
       "2014    61512\n",
       "2013    61433\n",
       "2018    47394\n",
       "Name: CalendarYearIssued, dtype: int64"
      ]
     },
     "execution_count": 9,
     "metadata": {},
     "output_type": "execute_result"
    }
   ],
   "source": [
    "# filter to past 5 years\n",
    "filtered_5y_DF = development_data_pd.loc[development_data_pd['CalendarYearIssued'] >= 2013, : ]\n",
    "filtered_5y_DF['CalendarYearIssued'].value_counts()"
   ]
  },
  {
   "cell_type": "code",
   "execution_count": 37,
   "metadata": {},
   "outputs": [
    {
     "data": {
      "text/plain": [
       "368979"
      ]
     },
     "execution_count": 37,
     "metadata": {},
     "output_type": "execute_result"
    }
   ],
   "source": [
    "# total number of projects\n",
    "filtered_5y_DF['CalendarYearIssued'].count()"
   ]
  },
  {
   "cell_type": "markdown",
   "metadata": {},
   "source": [
    "## Reduce DF to only applicable fields"
   ]
  },
  {
   "cell_type": "code",
   "execution_count": 8,
   "metadata": {},
   "outputs": [
    {
     "data": {
      "text/html": [
       "<div>\n",
       "<style scoped>\n",
       "    .dataframe tbody tr th:only-of-type {\n",
       "        vertical-align: middle;\n",
       "    }\n",
       "\n",
       "    .dataframe tbody tr th {\n",
       "        vertical-align: top;\n",
       "    }\n",
       "\n",
       "    .dataframe thead th {\n",
       "        text-align: right;\n",
       "    }\n",
       "</style>\n",
       "<table border=\"1\" class=\"dataframe\">\n",
       "  <thead>\n",
       "    <tr style=\"text-align: right;\">\n",
       "      <th></th>\n",
       "      <th>Description</th>\n",
       "      <th>PermitTypeDesc</th>\n",
       "      <th>PermitClass</th>\n",
       "      <th>WorkClass</th>\n",
       "      <th>Condominium</th>\n",
       "      <th>IssuedDate</th>\n",
       "      <th>CalendarYearIssued</th>\n",
       "      <th>StatusCurrent</th>\n",
       "      <th>OriginalAddress1</th>\n",
       "      <th>OriginalCity</th>\n",
       "      <th>OriginalZip</th>\n",
       "      <th>ProjectID</th>\n",
       "      <th>Latitude</th>\n",
       "      <th>Longitude</th>\n",
       "      <th>Location</th>\n",
       "    </tr>\n",
       "  </thead>\n",
       "  <tbody>\n",
       "    <tr>\n",
       "      <th>157671</th>\n",
       "      <td>Change of use Exterior and Interior remodel to...</td>\n",
       "      <td>Electrical Permit</td>\n",
       "      <td>C-1000 Commercial Remodel</td>\n",
       "      <td>Remodel</td>\n",
       "      <td>No</td>\n",
       "      <td>12/3/2013</td>\n",
       "      <td>2013</td>\n",
       "      <td>Final</td>\n",
       "      <td>505 E 7TH ST</td>\n",
       "      <td>AUSTIN</td>\n",
       "      <td>78701.0</td>\n",
       "      <td>11054257</td>\n",
       "      <td>30.267353</td>\n",
       "      <td>-97.737534</td>\n",
       "      <td>(30.26735287, -97.73753437)</td>\n",
       "    </tr>\n",
       "    <tr>\n",
       "      <th>157672</th>\n",
       "      <td>Replace feeder wire from weather head to tap b...</td>\n",
       "      <td>Electrical Permit</td>\n",
       "      <td>Commercial</td>\n",
       "      <td>Repair</td>\n",
       "      <td>No</td>\n",
       "      <td>11/14/2013</td>\n",
       "      <td>2013</td>\n",
       "      <td>Withdrawn</td>\n",
       "      <td>5319 N IH 35 SVRD NB</td>\n",
       "      <td>AUSTIN</td>\n",
       "      <td>78723.0</td>\n",
       "      <td>11049361</td>\n",
       "      <td>30.311574</td>\n",
       "      <td>-97.708528</td>\n",
       "      <td>(30.31157357, -97.7085284)</td>\n",
       "    </tr>\n",
       "    <tr>\n",
       "      <th>157673</th>\n",
       "      <td>rebuild elect service to existing commercial b...</td>\n",
       "      <td>Electrical Permit</td>\n",
       "      <td>Commercial</td>\n",
       "      <td>Remodel</td>\n",
       "      <td>No</td>\n",
       "      <td>11/6/2013</td>\n",
       "      <td>2013</td>\n",
       "      <td>Final</td>\n",
       "      <td>4807 BURNET RD</td>\n",
       "      <td>AUSTIN</td>\n",
       "      <td>78756.0</td>\n",
       "      <td>11045752</td>\n",
       "      <td>30.319080</td>\n",
       "      <td>-97.738850</td>\n",
       "      <td>(30.31908046, -97.73885014)</td>\n",
       "    </tr>\n",
       "    <tr>\n",
       "      <th>157674</th>\n",
       "      <td>Bath remodel electrical  plumbing upgrades</td>\n",
       "      <td>Electrical Permit</td>\n",
       "      <td>R- 435 Renovations/Remodel</td>\n",
       "      <td>Remodel</td>\n",
       "      <td>No</td>\n",
       "      <td>11/6/2013</td>\n",
       "      <td>2013</td>\n",
       "      <td>Final</td>\n",
       "      <td>4930 TRAIL WEST DR</td>\n",
       "      <td>AUSTIN</td>\n",
       "      <td>78735.0</td>\n",
       "      <td>11040470</td>\n",
       "      <td>30.250061</td>\n",
       "      <td>-97.830968</td>\n",
       "      <td>(30.2500614, -97.8309677)</td>\n",
       "    </tr>\n",
       "    <tr>\n",
       "      <th>157675</th>\n",
       "      <td>Interior Remodel for Fire Damage  Remove and r...</td>\n",
       "      <td>Electrical Permit</td>\n",
       "      <td>R- 435 Renovations/Remodel</td>\n",
       "      <td>Remodel</td>\n",
       "      <td>No</td>\n",
       "      <td>10/15/2013</td>\n",
       "      <td>2013</td>\n",
       "      <td>Final</td>\n",
       "      <td>5613 BENTSEN LN</td>\n",
       "      <td>AUSTIN</td>\n",
       "      <td>78723.0</td>\n",
       "      <td>11029305</td>\n",
       "      <td>30.289303</td>\n",
       "      <td>-97.669189</td>\n",
       "      <td>(30.2893035, -97.66918872)</td>\n",
       "    </tr>\n",
       "  </tbody>\n",
       "</table>\n",
       "</div>"
      ],
      "text/plain": [
       "                                              Description     PermitTypeDesc  \\\n",
       "157671  Change of use Exterior and Interior remodel to...  Electrical Permit   \n",
       "157672  Replace feeder wire from weather head to tap b...  Electrical Permit   \n",
       "157673  rebuild elect service to existing commercial b...  Electrical Permit   \n",
       "157674         Bath remodel electrical  plumbing upgrades  Electrical Permit   \n",
       "157675  Interior Remodel for Fire Damage  Remove and r...  Electrical Permit   \n",
       "\n",
       "                       PermitClass WorkClass Condominium  IssuedDate  \\\n",
       "157671   C-1000 Commercial Remodel   Remodel          No   12/3/2013   \n",
       "157672                  Commercial    Repair          No  11/14/2013   \n",
       "157673                  Commercial   Remodel          No   11/6/2013   \n",
       "157674  R- 435 Renovations/Remodel   Remodel          No   11/6/2013   \n",
       "157675  R- 435 Renovations/Remodel   Remodel          No  10/15/2013   \n",
       "\n",
       "        CalendarYearIssued StatusCurrent      OriginalAddress1 OriginalCity  \\\n",
       "157671                2013         Final          505 E 7TH ST       AUSTIN   \n",
       "157672                2013     Withdrawn  5319 N IH 35 SVRD NB       AUSTIN   \n",
       "157673                2013         Final        4807 BURNET RD       AUSTIN   \n",
       "157674                2013         Final    4930 TRAIL WEST DR       AUSTIN   \n",
       "157675                2013         Final       5613 BENTSEN LN       AUSTIN   \n",
       "\n",
       "        OriginalZip  ProjectID   Latitude  Longitude  \\\n",
       "157671      78701.0   11054257  30.267353 -97.737534   \n",
       "157672      78723.0   11049361  30.311574 -97.708528   \n",
       "157673      78756.0   11045752  30.319080 -97.738850   \n",
       "157674      78735.0   11040470  30.250061 -97.830968   \n",
       "157675      78723.0   11029305  30.289303 -97.669189   \n",
       "\n",
       "                           Location  \n",
       "157671  (30.26735287, -97.73753437)  \n",
       "157672   (30.31157357, -97.7085284)  \n",
       "157673  (30.31908046, -97.73885014)  \n",
       "157674    (30.2500614, -97.8309677)  \n",
       "157675   (30.2893035, -97.66918872)  "
      ]
     },
     "execution_count": 8,
     "metadata": {},
     "output_type": "execute_result"
    }
   ],
   "source": [
    "# Reduce data points\n",
    "reduced_5yr_DF = filtered_5y_DF[[\n",
    "    'Description',\n",
    "    'PermitTypeDesc', \n",
    "    'PermitClass', \n",
    "    'WorkClass', \n",
    "    'Condominium', \n",
    "    'IssuedDate', \n",
    "    'CalendarYearIssued', \n",
    "    'StatusCurrent',\n",
    "    'OriginalAddress1',\n",
    "    'OriginalCity',\n",
    "    'OriginalZip',\n",
    "    'ProjectID',\n",
    "    'Latitude',\n",
    "    'Longitude',\n",
    "    'Location']]\n",
    "reduced_5yr_DF.head()"
   ]
  },
  {
   "cell_type": "markdown",
   "metadata": {},
   "source": [
    "## Evaluating Status values, and filtering DF"
   ]
  },
  {
   "cell_type": "code",
   "execution_count": 10,
   "metadata": {},
   "outputs": [
    {
     "data": {
      "text/plain": [
       "Final                              299299\n",
       "Active                              35433\n",
       "Expired                             27479\n",
       "Withdrawn                            4093\n",
       "VOID                                 2362\n",
       "Inactive Pending Revision              94\n",
       "Cancelled - Contractor Required        93\n",
       "Aborted                                50\n",
       "Closed                                 19\n",
       "On Hold                                13\n",
       "Pending                                13\n",
       "Pending Permit                         12\n",
       "Cancelled                               9\n",
       "Suspended                               5\n",
       "Cancelled - New Permit Required         1\n",
       "Revoked                                 1\n",
       "Name: StatusCurrent, dtype: int64"
      ]
     },
     "execution_count": 10,
     "metadata": {},
     "output_type": "execute_result"
    }
   ],
   "source": [
    "reduced_5yr_DF['StatusCurrent'].value_counts()"
   ]
  },
  {
   "cell_type": "code",
   "execution_count": 13,
   "metadata": {},
   "outputs": [
    {
     "data": {
      "text/plain": [
       "Final     299299\n",
       "Active     35433\n",
       "Name: StatusCurrent, dtype: int64"
      ]
     },
     "execution_count": 13,
     "metadata": {},
     "output_type": "execute_result"
    }
   ],
   "source": [
    "# filter data to 'StatusSurrent = Final' for analyses of ACTIVE OR COMPLETED PROJECTS\n",
    "# reset index and drop original index\n",
    "filter_status = reduced_5yr_DF.loc[(reduced_5yr_DF['StatusCurrent'] == 'Final') \\\n",
    "                                   | (reduced_5yr_DF['StatusCurrent'] == 'Active'), : ].reset_index(drop=True)\n",
    "filter_status['StatusCurrent'].value_counts()"
   ]
  },
  {
   "cell_type": "code",
   "execution_count": 38,
   "metadata": {},
   "outputs": [
    {
     "data": {
      "text/plain": [
       "334732"
      ]
     },
     "execution_count": 38,
     "metadata": {},
     "output_type": "execute_result"
    }
   ],
   "source": [
    "# total number of projects\n",
    "filter_status['StatusCurrent'].count()"
   ]
  },
  {
   "cell_type": "markdown",
   "metadata": {},
   "source": [
    "## Evaluating PermitClass values, and filtering DF"
   ]
  },
  {
   "cell_type": "code",
   "execution_count": 26,
   "metadata": {},
   "outputs": [
    {
     "data": {
      "text/plain": [
       "Residential                                 92580\n",
       "R- 101 Single Family Houses                 66687\n",
       "C-1000 Commercial Remodel                   40253\n",
       "R- 435 Renovations/Remodel                  25509\n",
       "R- 434 Addition & Alterations               21609\n",
       "Commercial                                  19592\n",
       "C-1001 Commercial Finish Out                10000\n",
       "Res. Driveway & Sidewalk                     8919\n",
       "R- 329 Res Structures Other Than Bldg        6568\n",
       "Sign Permit                                  5085\n",
       "C- 105 Five or More Family Bldgs             4635\n",
       "R- 102 Secondary Apartment                   4438\n",
       "R- 103 Two Family Bldgs                      3002\n",
       "C- 329 Com Structures Other Than Bldg        2904\n",
       "C- 328 Commercial Other Nonresident Bldg     2669\n",
       "Res. Driveway                                2661\n",
       "R- 645 Demolition One Family Homes           2308\n",
       "R- 330  Accessory Use to Primary             1997\n",
       "C- 437 Addn, Alter, Convn-NonRes             1803\n",
       "R- 438 Residential Garage/Carport Addn       1615\n",
       "C- 327 Stores & Customer Services             942\n",
       "R- 649 Demolition All Other Bldgs Res         937\n",
       "C- 324 Office, Bank & Professional Bldgs      754\n",
       "C- 321 Pkg Garage Bldg & Open Deck            705\n",
       "C- 104 Three & Four Family Bldgs              615\n",
       "Res. Driveway, Curb, Gutter                   537\n",
       "C- 106 Mixed Use                              437\n",
       "C- 326 Schools & Other Educational Bldgs      420\n",
       "C- 649 Demolition All Other Bldgs Com         406\n",
       "Res. Driveway, Sidewalk, Curb, Gutter         363\n",
       "                                            ...  \n",
       "C - Medical Gas                               254\n",
       "R- 437 Residential Boat Dock                  227\n",
       "C- 213 Hotels, Motels, & Tourist Cabins       224\n",
       "C- 103 Two Family Bldgs                       215\n",
       "Com. Driveway,Sidewalk,Curb,Gutter            190\n",
       "Com. Sidewalk                                 176\n",
       "C- 320 Industrial Bldgs                       161\n",
       "Com. Driveway                                 143\n",
       "C- 318 Amusement, Social & Rec Bldgs          142\n",
       "R- 438 Residential Retaining Wall             125\n",
       "R-2001 Relocation Residential                 120\n",
       "C- 319 Churches and Othr Religious Bldgs      112\n",
       "C-1002 Commercial Remodel & Finish Out         96\n",
       "Com. Sidewalk, Curb, Gutter                    82\n",
       "C- 323 Hospital & Institutional Bldgs          77\n",
       "C- 325 Public Works & Utilities Bldgs          75\n",
       "R- 646 Demolition Two Family Bldgs             64\n",
       "C- 214 Other Nonhousekeeping Shelter           56\n",
       "C- 322 Service Station & Repair Garage         38\n",
       "C- 648 Demolition 5 or More Family Bldgs       36\n",
       "Res. Sidewalk, Curb, Gutter                    30\n",
       "Com. Curb, Gutter                              24\n",
       "Com. Driveway, Curb, Gutter                    24\n",
       "Res. Curb, Gutter                              22\n",
       "C- 647 Demolition 3 and 4 Family Bldgs         10\n",
       "C-2002 Commercial Boat Dock                     8\n",
       "C-2003 Commercial Retaining Wall                5\n",
       "C-2000 Relocation Commercial                    4\n",
       "R- 328 Resident Other Nonresident Bldg          4\n",
       "R- 436 Addn to increase housing units           3\n",
       "Name: PermitClass, Length: 63, dtype: int64"
      ]
     },
     "execution_count": 26,
     "metadata": {},
     "output_type": "execute_result"
    }
   ],
   "source": [
    "filter_status['PermitClass'].value_counts()\n",
    "\n",
    "# see 'Sign Permit', item index 9 below"
   ]
  },
  {
   "cell_type": "code",
   "execution_count": 27,
   "metadata": {},
   "outputs": [
    {
     "data": {
      "text/plain": [
       "Residential                                 92580\n",
       "R- 101 Single Family Houses                 66687\n",
       "C-1000 Commercial Remodel                   40253\n",
       "R- 435 Renovations/Remodel                  25509\n",
       "R- 434 Addition & Alterations               21609\n",
       "Commercial                                  19592\n",
       "C-1001 Commercial Finish Out                10000\n",
       "Res. Driveway & Sidewalk                     8919\n",
       "R- 329 Res Structures Other Than Bldg        6568\n",
       "C- 105 Five or More Family Bldgs             4635\n",
       "R- 102 Secondary Apartment                   4438\n",
       "R- 103 Two Family Bldgs                      3002\n",
       "C- 329 Com Structures Other Than Bldg        2904\n",
       "C- 328 Commercial Other Nonresident Bldg     2669\n",
       "Res. Driveway                                2661\n",
       "R- 645 Demolition One Family Homes           2308\n",
       "R- 330  Accessory Use to Primary             1997\n",
       "C- 437 Addn, Alter, Convn-NonRes             1803\n",
       "R- 438 Residential Garage/Carport Addn       1615\n",
       "C- 327 Stores & Customer Services             942\n",
       "R- 649 Demolition All Other Bldgs Res         937\n",
       "C- 324 Office, Bank & Professional Bldgs      754\n",
       "C- 321 Pkg Garage Bldg & Open Deck            705\n",
       "C- 104 Three & Four Family Bldgs              615\n",
       "Res. Driveway, Curb, Gutter                   537\n",
       "C- 106 Mixed Use                              437\n",
       "C- 326 Schools & Other Educational Bldgs      420\n",
       "C- 649 Demolition All Other Bldgs Com         406\n",
       "Res. Driveway, Sidewalk, Curb, Gutter         363\n",
       "Com. Driveway & Sidewalk                      358\n",
       "                                            ...  \n",
       "C - Medical Gas                               254\n",
       "R- 437 Residential Boat Dock                  227\n",
       "C- 213 Hotels, Motels, & Tourist Cabins       224\n",
       "C- 103 Two Family Bldgs                       215\n",
       "Com. Driveway,Sidewalk,Curb,Gutter            190\n",
       "Com. Sidewalk                                 176\n",
       "C- 320 Industrial Bldgs                       161\n",
       "Com. Driveway                                 143\n",
       "C- 318 Amusement, Social & Rec Bldgs          142\n",
       "R- 438 Residential Retaining Wall             125\n",
       "R-2001 Relocation Residential                 120\n",
       "C- 319 Churches and Othr Religious Bldgs      112\n",
       "C-1002 Commercial Remodel & Finish Out         96\n",
       "Com. Sidewalk, Curb, Gutter                    82\n",
       "C- 323 Hospital & Institutional Bldgs          77\n",
       "C- 325 Public Works & Utilities Bldgs          75\n",
       "R- 646 Demolition Two Family Bldgs             64\n",
       "C- 214 Other Nonhousekeeping Shelter           56\n",
       "C- 322 Service Station & Repair Garage         38\n",
       "C- 648 Demolition 5 or More Family Bldgs       36\n",
       "Res. Sidewalk, Curb, Gutter                    30\n",
       "Com. Curb, Gutter                              24\n",
       "Com. Driveway, Curb, Gutter                    24\n",
       "Res. Curb, Gutter                              22\n",
       "C- 647 Demolition 3 and 4 Family Bldgs         10\n",
       "C-2002 Commercial Boat Dock                     8\n",
       "C-2003 Commercial Retaining Wall                5\n",
       "C-2000 Relocation Commercial                    4\n",
       "R- 328 Resident Other Nonresident Bldg          4\n",
       "R- 436 Addn to increase housing units           3\n",
       "Name: PermitClass, Length: 62, dtype: int64"
      ]
     },
     "execution_count": 27,
     "metadata": {},
     "output_type": "execute_result"
    }
   ],
   "source": [
    "# filtered out 'sign permits'\n",
    "final_5y_DF = filter_status.loc[filter_status['PermitClass'] != 'Sign Permit', : ]\n",
    "\n",
    "final_5y_DF['PermitClass'].value_counts()"
   ]
  },
  {
   "cell_type": "markdown",
   "metadata": {},
   "source": [
    "## Recode PermitClass to standardized values"
   ]
  },
  {
   "cell_type": "code",
   "execution_count": 31,
   "metadata": {},
   "outputs": [
    {
     "name": "stderr",
     "output_type": "stream",
     "text": [
      "C:\\Users\\Honky\\Anaconda3\\lib\\site-packages\\ipykernel_launcher.py:3: SettingWithCopyWarning: \n",
      "A value is trying to be set on a copy of a slice from a DataFrame.\n",
      "Try using .loc[row_indexer,col_indexer] = value instead\n",
      "\n",
      "See the caveats in the documentation: http://pandas.pydata.org/pandas-docs/stable/indexing.html#indexing-view-versus-copy\n",
      "  This is separate from the ipykernel package so we can avoid doing imports until\n",
      "C:\\Users\\Honky\\Anaconda3\\lib\\site-packages\\ipykernel_launcher.py:4: SettingWithCopyWarning: \n",
      "A value is trying to be set on a copy of a slice from a DataFrame.\n",
      "Try using .loc[row_indexer,col_indexer] = value instead\n",
      "\n",
      "See the caveats in the documentation: http://pandas.pydata.org/pandas-docs/stable/indexing.html#indexing-view-versus-copy\n",
      "  after removing the cwd from sys.path.\n"
     ]
    },
    {
     "data": {
      "text/html": [
       "<div>\n",
       "<style scoped>\n",
       "    .dataframe tbody tr th:only-of-type {\n",
       "        vertical-align: middle;\n",
       "    }\n",
       "\n",
       "    .dataframe tbody tr th {\n",
       "        vertical-align: top;\n",
       "    }\n",
       "\n",
       "    .dataframe thead th {\n",
       "        text-align: right;\n",
       "    }\n",
       "</style>\n",
       "<table border=\"1\" class=\"dataframe\">\n",
       "  <thead>\n",
       "    <tr style=\"text-align: right;\">\n",
       "      <th></th>\n",
       "      <th>Description</th>\n",
       "      <th>PermitClass</th>\n",
       "      <th>WorkClass</th>\n",
       "      <th>OriginalAddress1</th>\n",
       "      <th>Location</th>\n",
       "      <th>PermitClass_Commercial</th>\n",
       "      <th>PermitClass_Residential</th>\n",
       "    </tr>\n",
       "  </thead>\n",
       "  <tbody>\n",
       "    <tr>\n",
       "      <th>0</th>\n",
       "      <td>Change of use Exterior and Interior remodel to...</td>\n",
       "      <td>C-1000 Commercial Remodel</td>\n",
       "      <td>Remodel</td>\n",
       "      <td>505 E 7TH ST</td>\n",
       "      <td>(30.26735287, -97.73753437)</td>\n",
       "      <td>True</td>\n",
       "      <td>False</td>\n",
       "    </tr>\n",
       "    <tr>\n",
       "      <th>1</th>\n",
       "      <td>rebuild elect service to existing commercial b...</td>\n",
       "      <td>Commercial</td>\n",
       "      <td>Remodel</td>\n",
       "      <td>4807 BURNET RD</td>\n",
       "      <td>(30.31908046, -97.73885014)</td>\n",
       "      <td>True</td>\n",
       "      <td>False</td>\n",
       "    </tr>\n",
       "    <tr>\n",
       "      <th>2</th>\n",
       "      <td>Bath remodel electrical  plumbing upgrades</td>\n",
       "      <td>R- 435 Renovations/Remodel</td>\n",
       "      <td>Remodel</td>\n",
       "      <td>4930 TRAIL WEST DR</td>\n",
       "      <td>(30.2500614, -97.8309677)</td>\n",
       "      <td>False</td>\n",
       "      <td>True</td>\n",
       "    </tr>\n",
       "    <tr>\n",
       "      <th>3</th>\n",
       "      <td>Interior Remodel for Fire Damage  Remove and r...</td>\n",
       "      <td>R- 435 Renovations/Remodel</td>\n",
       "      <td>Remodel</td>\n",
       "      <td>5613 BENTSEN LN</td>\n",
       "      <td>(30.2893035, -97.66918872)</td>\n",
       "      <td>False</td>\n",
       "      <td>True</td>\n",
       "    </tr>\n",
       "    <tr>\n",
       "      <th>4</th>\n",
       "      <td>Change of Use and Interior Remodel from SF Res...</td>\n",
       "      <td>C-1000 Commercial Remodel</td>\n",
       "      <td>Remodel</td>\n",
       "      <td>9600 CIRCLE DR</td>\n",
       "      <td>(30.24326144, -97.92283706)</td>\n",
       "      <td>True</td>\n",
       "      <td>False</td>\n",
       "    </tr>\n",
       "  </tbody>\n",
       "</table>\n",
       "</div>"
      ],
      "text/plain": [
       "                                         Description  \\\n",
       "0  Change of use Exterior and Interior remodel to...   \n",
       "1  rebuild elect service to existing commercial b...   \n",
       "2         Bath remodel electrical  plumbing upgrades   \n",
       "3  Interior Remodel for Fire Damage  Remove and r...   \n",
       "4  Change of Use and Interior Remodel from SF Res...   \n",
       "\n",
       "                  PermitClass WorkClass    OriginalAddress1  \\\n",
       "0   C-1000 Commercial Remodel   Remodel        505 E 7TH ST   \n",
       "1                  Commercial   Remodel      4807 BURNET RD   \n",
       "2  R- 435 Renovations/Remodel   Remodel  4930 TRAIL WEST DR   \n",
       "3  R- 435 Renovations/Remodel   Remodel     5613 BENTSEN LN   \n",
       "4   C-1000 Commercial Remodel   Remodel      9600 CIRCLE DR   \n",
       "\n",
       "                      Location PermitClass_Commercial PermitClass_Residential  \n",
       "0  (30.26735287, -97.73753437)                   True                   False  \n",
       "1  (30.31908046, -97.73885014)                   True                   False  \n",
       "2    (30.2500614, -97.8309677)                  False                    True  \n",
       "3   (30.2893035, -97.66918872)                  False                    True  \n",
       "4  (30.24326144, -97.92283706)                   True                   False  "
      ]
     },
     "execution_count": 31,
     "metadata": {},
     "output_type": "execute_result"
    }
   ],
   "source": [
    "# re-code 'permitClass' to standardized values\n",
    "# this creates 1 new series coded with T/F for 'begins with C'\n",
    "final_5y_DF['PermitClass_Commercial'] = final_5y_DF.PermitClass.str.startswith('C')\n",
    "final_5y_DF['PermitClass_Residential'] = final_5y_DF.PermitClass.str.startswith('R')\n",
    "\n",
    "final_5y_DF[[\n",
    "    'Description',\n",
    "    'PermitClass', \n",
    "    'WorkClass', \n",
    "    'OriginalAddress1',\n",
    "    'Location',\n",
    "    'PermitClass_Commercial',\n",
    "    'PermitClass_Residential']].head()"
   ]
  },
  {
   "cell_type": "code",
   "execution_count": 33,
   "metadata": {},
   "outputs": [
    {
     "data": {
      "text/plain": [
       "False    240646\n",
       "True      89000\n",
       "Name: PermitClass_Commercial, dtype: int64"
      ]
     },
     "execution_count": 33,
     "metadata": {},
     "output_type": "execute_result"
    }
   ],
   "source": [
    "final_5y_DF['PermitClass_Commercial'].value_counts()"
   ]
  },
  {
   "cell_type": "code",
   "execution_count": 34,
   "metadata": {},
   "outputs": [
    {
     "data": {
      "text/plain": [
       "True     240646\n",
       "False     89000\n",
       "Name: PermitClass_Residential, dtype: int64"
      ]
     },
     "execution_count": 34,
     "metadata": {},
     "output_type": "execute_result"
    }
   ],
   "source": [
    "final_5y_DF['PermitClass_Residential'].value_counts()"
   ]
  },
  {
   "cell_type": "markdown",
   "metadata": {},
   "source": [
    "## Evaluate WorkClass field"
   ]
  },
  {
   "cell_type": "code",
   "execution_count": 32,
   "metadata": {},
   "outputs": [
    {
     "data": {
      "text/plain": [
       "New                             119153\n",
       "Remodel                          78718\n",
       "Repair                           49820\n",
       "Change Out                       26086\n",
       "Addition and Remodel             20207\n",
       "Irrigation                       11865\n",
       "Auxiliary Power                   6446\n",
       "Demolition                        3761\n",
       "Upgrade                           3448\n",
       "Addition                          3138\n",
       "Shell                             1451\n",
       "Special Inspections Program       1084\n",
       "Modification                       925\n",
       "Interior Demo Non-Structural       918\n",
       "Fireline                           887\n",
       "Life Safety                        709\n",
       "Auxiliary Water                    551\n",
       "Cut Over/Tank Abandonment          341\n",
       "Relocation                         124\n",
       "Demo                                13\n",
       "Wall                                 1\n",
       "Name: WorkClass, dtype: int64"
      ]
     },
     "execution_count": 32,
     "metadata": {},
     "output_type": "execute_result"
    }
   ],
   "source": [
    "final_5y_DF['WorkClass'].value_counts()"
   ]
  },
  {
   "cell_type": "markdown",
   "metadata": {},
   "source": [
    "## Evaluate Condominium field"
   ]
  },
  {
   "cell_type": "code",
   "execution_count": 39,
   "metadata": {},
   "outputs": [
    {
     "data": {
      "text/plain": [
       "No     310793\n",
       "Yes      4454\n",
       "Name: Condominium, dtype: int64"
      ]
     },
     "execution_count": 39,
     "metadata": {},
     "output_type": "execute_result"
    }
   ],
   "source": [
    "final_5y_DF['Condominium'].value_counts()"
   ]
  },
  {
   "cell_type": "code",
   "execution_count": 42,
   "metadata": {},
   "outputs": [],
   "source": [
    "#  Filtering to Only Condominium == Yes\n",
    "# Condo_5y_status_df = filtered_5y_status_df.loc[(filtered_5y_status_df['Condominium'] == 'Yes')]\n",
    "# altering the above to not duplicate code\n",
    "Condo_5y_status_df = final_5y_DF.loc[(final_5y_DF['Condominium'] == 'Yes')]"
   ]
  },
  {
   "cell_type": "code",
   "execution_count": 43,
   "metadata": {},
   "outputs": [
    {
     "data": {
      "text/plain": [
       "New    4454\n",
       "Name: WorkClass, dtype: int64"
      ]
     },
     "execution_count": 43,
     "metadata": {},
     "output_type": "execute_result"
    }
   ],
   "source": [
    "# available Workclass values in filtered Condo df\n",
    "Condo_5y_status_df['WorkClass'].value_counts()"
   ]
  },
  {
   "cell_type": "markdown",
   "metadata": {},
   "source": [
    "## The Condo field is only 'yes' within 'New' construction projects"
   ]
  },
  {
   "cell_type": "markdown",
   "metadata": {},
   "source": [
    "# Onward to analyses!"
   ]
  },
  {
   "cell_type": "code",
   "execution_count": null,
   "metadata": {},
   "outputs": [],
   "source": []
  }
 ],
 "metadata": {
  "kernelspec": {
   "display_name": "Python 3",
   "language": "python",
   "name": "python3"
  },
  "language_info": {
   "codemirror_mode": {
    "name": "ipython",
    "version": 3
   },
   "file_extension": ".py",
   "mimetype": "text/x-python",
   "name": "python",
   "nbconvert_exporter": "python",
   "pygments_lexer": "ipython3",
   "version": "3.6.5"
  }
 },
 "nbformat": 4,
 "nbformat_minor": 2
}
