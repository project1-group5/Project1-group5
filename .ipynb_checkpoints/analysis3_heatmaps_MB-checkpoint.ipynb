{
 "cells": [
  {
   "cell_type": "markdown",
   "metadata": {},
   "source": [
    "# Analysis 3: heat map of overall permit counts\n",
    "plot projects as points\n",
    "\n",
    "group by zip and count projects to produce heatmap as underlay\n"
   ]
  },
  {
   "cell_type": "code",
   "execution_count": 70,
   "metadata": {},
   "outputs": [],
   "source": [
    "# dependencies\n",
    "%matplotlib inline\n",
    "import pandas as pd\n",
    "import os\n",
    "import matplotlib.pyplot as plt\n",
    "import gmaps\n",
    "\n",
    "# Google developer API key\n",
    "from config import gkey\n",
    "\n",
    "# Configure gmaps\n",
    "gmaps.configure(api_key=gkey)"
   ]
  },
  {
   "cell_type": "code",
   "execution_count": 71,
   "metadata": {},
   "outputs": [
    {
     "name": "stderr",
     "output_type": "stream",
     "text": [
      "C:\\Users\\Honky\\Anaconda3\\lib\\site-packages\\IPython\\core\\interactiveshell.py:2785: DtypeWarning: Columns (25,26,36) have mixed types. Specify dtype option on import or set low_memory=False.\n",
      "  interactivity=interactivity, compiler=compiler, result=result)\n"
     ]
    }
   ],
   "source": [
    "# csv path saved to variable-- will need to chaange the final directory\n",
    "data = \"~/Desktop/Construction_Permits_Issued_since_2010.csv\"\n",
    "\n",
    "# Read and display the CSV with Pandas\n",
    "development_data_pd = pd.read_csv(data)\n",
    "\n",
    "# filter to past 5 years\n",
    "filtered_5y_DF = development_data_pd.loc[development_data_pd['CalendarYearIssued'] >= 2013, : ]"
   ]
  },
  {
   "cell_type": "code",
   "execution_count": 72,
   "metadata": {},
   "outputs": [
    {
     "name": "stderr",
     "output_type": "stream",
     "text": [
      "C:\\Users\\Honky\\Anaconda3\\lib\\site-packages\\ipykernel_launcher.py:27: SettingWithCopyWarning: \n",
      "A value is trying to be set on a copy of a slice from a DataFrame.\n",
      "Try using .loc[row_indexer,col_indexer] = value instead\n",
      "\n",
      "See the caveats in the documentation: http://pandas.pydata.org/pandas-docs/stable/indexing.html#indexing-view-versus-copy\n",
      "C:\\Users\\Honky\\Anaconda3\\lib\\site-packages\\ipykernel_launcher.py:28: SettingWithCopyWarning: \n",
      "A value is trying to be set on a copy of a slice from a DataFrame.\n",
      "Try using .loc[row_indexer,col_indexer] = value instead\n",
      "\n",
      "See the caveats in the documentation: http://pandas.pydata.org/pandas-docs/stable/indexing.html#indexing-view-versus-copy\n"
     ]
    },
    {
     "data": {
      "text/plain": [
       "['PermitTypeDesc',\n",
       " 'PermitClass',\n",
       " 'WorkClass',\n",
       " 'Condominium',\n",
       " 'IssuedDate',\n",
       " 'CalendarYearIssued',\n",
       " 'StatusCurrent',\n",
       " 'OriginalAddress1',\n",
       " 'OriginalCity',\n",
       " 'OriginalZip',\n",
       " 'ProjectID',\n",
       " 'Latitude',\n",
       " 'Longitude',\n",
       " 'Location',\n",
       " 'PermitClass_Commercial',\n",
       " 'PermitClass_Residential']"
      ]
     },
     "execution_count": 72,
     "metadata": {},
     "output_type": "execute_result"
    }
   ],
   "source": [
    "# Reduce data points\n",
    "reduced_5yr_DF = filtered_5y_DF[[\n",
    "    'PermitTypeDesc', \n",
    "    'PermitClass', \n",
    "    'WorkClass', \n",
    "    'Condominium', \n",
    "    'IssuedDate', \n",
    "    'CalendarYearIssued', \n",
    "    'StatusCurrent',\n",
    "    'OriginalAddress1',\n",
    "    'OriginalCity',\n",
    "    'OriginalZip',\n",
    "    'ProjectID',\n",
    "    'Latitude',\n",
    "    'Longitude',\n",
    "    'Location']]\n",
    "\n",
    "# filter data to 'StatusSurrent = Final' for analyses of ACTIVE OR COMPLETED PROJECTS\n",
    "# reset index and drop original index\n",
    "filter_status = reduced_5yr_DF.loc[(reduced_5yr_DF['StatusCurrent'] == 'Final') | (reduced_5yr_DF['StatusCurrent'] == 'Active'), : ].reset_index(drop=True)\n",
    "\n",
    "# filtered out 'sign permits'\n",
    "final_5y_DF = filter_status.loc[filter_status['PermitClass'] != 'Sign Permit', : ]\n",
    "\n",
    "# re-code 'permitClass' to standardized values\n",
    "# this creates 1 new series coded with T/F for 'begins with C'\n",
    "final_5y_DF['PermitClass_Commercial'] = final_5y_DF.PermitClass.str.startswith('C')\n",
    "final_5y_DF['PermitClass_Residential'] = final_5y_DF.PermitClass.str.startswith('R')\n",
    "\n",
    "list(final_5y_DF)"
   ]
  },
  {
   "cell_type": "code",
   "execution_count": 73,
   "metadata": {},
   "outputs": [
    {
     "name": "stdout",
     "output_type": "stream",
     "text": [
      "Latitude     329612\n",
      "Longitude    329612\n",
      "dtype: int64\n",
      "Latitude     329612\n",
      "Longitude    329612\n",
      "dtype: int64\n"
     ]
    },
    {
     "data": {
      "text/plain": [
       "[(30.26735287, -97.73753437)]"
      ]
     },
     "execution_count": 73,
     "metadata": {},
     "output_type": "execute_result"
    }
   ],
   "source": [
    "# Store 'Lat' and 'Lng' into  locations\n",
    "locations = final_5y_DF[[\"Latitude\", \"Longitude\"]].astype(float)\n",
    "print(locations.count())\n",
    "\n",
    "# HINT: dropping the handful of rows with no coords.\n",
    "locs = locations.dropna(axis=0, how='any')\n",
    "print(locs.count())\n",
    "\n",
    "test = [(locs['Latitude'][0] , locs['Longitude'][0])]\n",
    "test\n"
   ]
  },
  {
   "cell_type": "code",
   "execution_count": null,
   "metadata": {},
   "outputs": [],
   "source": []
  },
  {
   "cell_type": "code",
   "execution_count": 74,
   "metadata": {},
   "outputs": [
    {
     "data": {
      "application/vnd.jupyter.widget-view+json": {
       "model_id": "56d9a0680e69495a8dea3f7470d3b9e7",
       "version_major": 2,
       "version_minor": 0
      },
      "text/plain": [
       "Figure(layout=FigureLayout(height='420px'))"
      ]
     },
     "metadata": {},
     "output_type": "display_data"
    }
   ],
   "source": [
    "# Create project points layer\n",
    "projects_layer = gmaps.symbol_layer(\n",
    "    test, fill_color='rgba(0, 150, 0, 0.4)',\n",
    "    stroke_color='rgba(0, 0, 150, 0.4)', scale=2)\n",
    "\n",
    "fig = gmaps.figure()\n",
    "fig.add_layer(projects_layer)\n",
    "\n",
    "fig"
   ]
  },
  {
   "cell_type": "code",
   "execution_count": 75,
   "metadata": {},
   "outputs": [],
   "source": [
    "# Customize the size of the figure\n",
    "figure_layout = {\n",
    "    'width': '400px',\n",
    "    'height': '300px',\n",
    "    'border': '1px solid black',\n",
    "    'padding': '1px',\n",
    "    'margin': '0 auto 0 auto'\n",
    "}\n",
    "fig = gmaps.figure(layout=figure_layout)\n",
    "\n"
   ]
  },
  {
   "cell_type": "code",
   "execution_count": 76,
   "metadata": {},
   "outputs": [
    {
     "data": {
      "application/vnd.jupyter.widget-view+json": {
       "model_id": "b0988dd5cb454e2caa3e3ac862d0c511",
       "version_major": 2,
       "version_minor": 0
      },
      "text/plain": [
       "Figure(layout=FigureLayout(border='1px solid black', height='300px', margin='0 auto 0 auto', padding='1px', wi…"
      ]
     },
     "metadata": {},
     "output_type": "display_data"
    }
   ],
   "source": [
    "# Assign the marker layer to a variable\n",
    "markers = gmaps.marker_layer(test)\n",
    "\n",
    "# Add the layer to the map\n",
    "fig.add_layer(markers)\n",
    "fig"
   ]
  },
  {
   "cell_type": "code",
   "execution_count": null,
   "metadata": {},
   "outputs": [],
   "source": []
  }
 ],
 "metadata": {
  "kernelspec": {
   "display_name": "Python 3",
   "language": "python",
   "name": "python3"
  },
  "language_info": {
   "codemirror_mode": {
    "name": "ipython",
    "version": 3
   },
   "file_extension": ".py",
   "mimetype": "text/x-python",
   "name": "python",
   "nbconvert_exporter": "python",
   "pygments_lexer": "ipython3",
   "version": "3.6.5"
  }
 },
 "nbformat": 4,
 "nbformat_minor": 2
}
