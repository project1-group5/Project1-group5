{
 "cells": [
  {
   "cell_type": "code",
   "execution_count": 6,
   "metadata": {},
   "outputs": [],
   "source": [
    "# dependencies\n",
    "import pandas as pd\n",
    "import os\n",
    "import numpy as np\n",
    "\n",
    "import matplotlib.pyplot as plt"
   ]
  },
  {
   "cell_type": "code",
   "execution_count": 8,
   "metadata": {},
   "outputs": [],
   "source": [
    "# csv path saved to variable-- will need to change the final directory\n",
    "data = \"Construction_Permits_Issued_since_2010.csv\""
   ]
  },
  {
   "cell_type": "code",
   "execution_count": 10,
   "metadata": {},
   "outputs": [
    {
     "name": "stderr",
     "output_type": "stream",
     "text": [
      "C:\\Users\\lcc25\\Anaconda3\\lib\\site-packages\\IPython\\core\\interactiveshell.py:2785: DtypeWarning: Columns (25,26,36) have mixed types. Specify dtype option on import or set low_memory=False.\n",
      "  interactivity=interactivity, compiler=compiler, result=result)\n"
     ]
    }
   ],
   "source": [
    "# Read and display the CSV with Pandas\n",
    "development_data_pd = pd.read_csv(data, encoding = \"utf-8\")\n",
    "# development_data_pd.head(5)\n",
    "# development_data_pd.head(10)"
   ]
  },
  {
   "cell_type": "markdown",
   "metadata": {},
   "source": [
    "DATA CLEAN UP"
   ]
  },
  {
   "cell_type": "code",
   "execution_count": 12,
   "metadata": {},
   "outputs": [],
   "source": [
    "\n",
    "# filter to past 5 years for each year of interest\n",
    "filtered_5y_DF18 = development_data_pd.loc[development_data_pd['CalendarYearIssued'] == 2018, : ]\n",
    "filtered_5y_DF17 = development_data_pd.loc[development_data_pd['CalendarYearIssued'] == 2017, : ]\n",
    "filtered_5y_DF16 = development_data_pd.loc[development_data_pd['CalendarYearIssued'] == 2016, : ]\n",
    "filtered_5y_DF15 = development_data_pd.loc[development_data_pd['CalendarYearIssued'] == 2015, : ]\n",
    "filtered_5y_DF14 = development_data_pd.loc[development_data_pd['CalendarYearIssued'] == 2014, : ]\n",
    "filtered_5y_DF13 = development_data_pd.loc[development_data_pd['CalendarYearIssued'] == 2013, : ]\n"
   ]
  },
  {
   "cell_type": "code",
   "execution_count": 14,
   "metadata": {},
   "outputs": [],
   "source": [
    "# Reduce data points to dataframes by year\n",
    "reducedpermit_5yr_DF18 = filtered_5y_DF18[[\n",
    "    'CalendarYearIssued',\n",
    "    'PermitClass', \n",
    "    'StatusCurrent']]\n",
    "reducedpermit_5yr_DF17 = filtered_5y_DF17[[\n",
    "     'CalendarYearIssued',\n",
    "     'PermitClass', \n",
    "     'StatusCurrent']]\n",
    "reducedpermit_5yr_DF16 = filtered_5y_DF16[[\n",
    "     'CalendarYearIssued',\n",
    "     'PermitClass', \n",
    "     'StatusCurrent']]\n",
    "reducedpermit_5yr_DF15 = filtered_5y_DF15[[\n",
    "    'CalendarYearIssued',\n",
    "    'PermitClass', \n",
    "    'StatusCurrent']]\n",
    "reducedpermit_5yr_DF14 = filtered_5y_DF14[[\n",
    "     'CalendarYearIssued',\n",
    "     'PermitClass', \n",
    "     'StatusCurrent']]\n",
    "reducedpermit_5yr_DF13 = filtered_5y_DF13[[\n",
    "     'CalendarYearIssued',\n",
    "     'PermitClass', \n",
    "     'StatusCurrent']]"
   ]
  },
  {
   "cell_type": "code",
   "execution_count": 16,
   "metadata": {},
   "outputs": [
    {
     "name": "stderr",
     "output_type": "stream",
     "text": [
      "C:\\Users\\lcc25\\Anaconda3\\lib\\site-packages\\pandas\\core\\indexing.py:362: SettingWithCopyWarning: \n",
      "A value is trying to be set on a copy of a slice from a DataFrame.\n",
      "Try using .loc[row_indexer,col_indexer] = value instead\n",
      "\n",
      "See the caveats in the documentation: http://pandas.pydata.org/pandas-docs/stable/indexing.html#indexing-view-versus-copy\n",
      "  self.obj[key] = _infer_fill_value(value)\n",
      "C:\\Users\\lcc25\\Anaconda3\\lib\\site-packages\\pandas\\core\\indexing.py:543: SettingWithCopyWarning: \n",
      "A value is trying to be set on a copy of a slice from a DataFrame.\n",
      "Try using .loc[row_indexer,col_indexer] = value instead\n",
      "\n",
      "See the caveats in the documentation: http://pandas.pydata.org/pandas-docs/stable/indexing.html#indexing-view-versus-copy\n",
      "  self.obj[item] = s\n"
     ]
    },
    {
     "data": {
      "text/html": [
       "<div>\n",
       "<style scoped>\n",
       "    .dataframe tbody tr th:only-of-type {\n",
       "        vertical-align: middle;\n",
       "    }\n",
       "\n",
       "    .dataframe tbody tr th {\n",
       "        vertical-align: top;\n",
       "    }\n",
       "\n",
       "    .dataframe thead th {\n",
       "        text-align: right;\n",
       "    }\n",
       "</style>\n",
       "<table border=\"1\" class=\"dataframe\">\n",
       "  <thead>\n",
       "    <tr style=\"text-align: right;\">\n",
       "      <th></th>\n",
       "      <th>CalendarYearIssued</th>\n",
       "      <th>PermitClass</th>\n",
       "      <th>StatusCurrent</th>\n",
       "      <th>Permit</th>\n",
       "    </tr>\n",
       "  </thead>\n",
       "  <tbody>\n",
       "    <tr>\n",
       "      <th>479256</th>\n",
       "      <td>2018</td>\n",
       "      <td>Residential</td>\n",
       "      <td>Active</td>\n",
       "      <td>Residential</td>\n",
       "    </tr>\n",
       "    <tr>\n",
       "      <th>479257</th>\n",
       "      <td>2018</td>\n",
       "      <td>Residential</td>\n",
       "      <td>Active</td>\n",
       "      <td>Residential</td>\n",
       "    </tr>\n",
       "    <tr>\n",
       "      <th>479258</th>\n",
       "      <td>2018</td>\n",
       "      <td>Commercial</td>\n",
       "      <td>Active</td>\n",
       "      <td>Commercial</td>\n",
       "    </tr>\n",
       "    <tr>\n",
       "      <th>479259</th>\n",
       "      <td>2018</td>\n",
       "      <td>Residential</td>\n",
       "      <td>Active</td>\n",
       "      <td>Residential</td>\n",
       "    </tr>\n",
       "    <tr>\n",
       "      <th>479260</th>\n",
       "      <td>2018</td>\n",
       "      <td>Commercial</td>\n",
       "      <td>Active</td>\n",
       "      <td>Commercial</td>\n",
       "    </tr>\n",
       "  </tbody>\n",
       "</table>\n",
       "</div>"
      ],
      "text/plain": [
       "        CalendarYearIssued  PermitClass StatusCurrent       Permit\n",
       "479256                2018  Residential        Active  Residential\n",
       "479257                2018  Residential        Active  Residential\n",
       "479258                2018   Commercial        Active   Commercial\n",
       "479259                2018  Residential        Active  Residential\n",
       "479260                2018   Commercial        Active   Commercial"
      ]
     },
     "execution_count": 16,
     "metadata": {},
     "output_type": "execute_result"
    }
   ],
   "source": [
    "# Startswith runs a little slower, both work.  \n",
    "# def residential (row):\n",
    "#     if str(row).startswith('C'):\n",
    "#         return 'Commercial'\n",
    "#     if str(row).startswith('R'):\n",
    "#         return 'Residential'\n",
    "def residential (row):\n",
    "    if str(row)[0] == 'C':\n",
    "        return 'Commercial'\n",
    "    if str(row)[0] == 'R':\n",
    "        return 'Residential'\n",
    "\n",
    "reducedpermit_5yr_DF18.loc[:,'Permit'] = reducedpermit_5yr_DF18.PermitClass.apply(lambda row: residential(row))\n",
    "reducedpermit_5yr_DF17.loc[:,'Permit'] = reducedpermit_5yr_DF17.PermitClass.apply(lambda row: residential(row))\n",
    "reducedpermit_5yr_DF16.loc[:,'Permit'] = reducedpermit_5yr_DF16.PermitClass.apply(lambda row: residential(row))\n",
    "reducedpermit_5yr_DF15.loc[:,'Permit'] = reducedpermit_5yr_DF15.PermitClass.apply(lambda row: residential(row))\n",
    "reducedpermit_5yr_DF14.loc[:,'Permit'] = reducedpermit_5yr_DF14.PermitClass.apply(lambda row: residential(row))\n",
    "reducedpermit_5yr_DF13.loc[:,'Permit'] = reducedpermit_5yr_DF13.PermitClass.apply(lambda row: residential(row))\n",
    "\n",
    "\n",
    "# reducedpermit_5yr_DF.reset_index()\n",
    "# reducedpermit_5yr_DF.head()\n",
    "# list(reducedpermit_5yr_DF)\n",
    "# fig, ax = plt.subplots(1, 1)\n",
    "# df = reducedpermit_5yr_DF18\n",
    "# ax.get_xaxis().set_visible(False)   # Hide Ticks\n",
    "# df.plot(table=True, ax=ax)\n",
    "# show.plot()\n",
    "reducedpermit_5yr_DF18.head()"
   ]
  },
  {
   "cell_type": "code",
   "execution_count": 17,
   "metadata": {},
   "outputs": [],
   "source": [
    "# reducedpermit_5yr_DF18\n",
    "\n",
    "# get list of values for each year of interest 2018, 2017, 2016 commercial Permit Status\n",
    "\n",
    "little_reducedpermit_5yr_DF18c = reducedpermit_5yr_DF18.loc[reducedpermit_5yr_DF18['Permit'] == 'Commercial', :]\n",
    "little_reducedpermit_5yr_DF18c = little_reducedpermit_5yr_DF18c.groupby('StatusCurrent', as_index=False).agg({\"Permit\" : \"count\"})\n",
    "little_reducedpermit_5yr_DF18c = little_reducedpermit_5yr_DF18c.loc[little_reducedpermit_5yr_DF18c['Permit'] >= 10]\n",
    "x_axis = little_reducedpermit_5yr_DF18c['StatusCurrent'].tolist()\n",
    "y_axis18c = little_reducedpermit_5yr_DF18c['Permit'].tolist()\n",
    "\n",
    "\n",
    "little_reducedpermit_5yr_DF17c = reducedpermit_5yr_DF17.loc[reducedpermit_5yr_DF17['Permit'] == 'Commercial', :]\n",
    "little_reducedpermit_5yr_DF17c = little_reducedpermit_5yr_DF17c.groupby('StatusCurrent', as_index=False).agg({\"Permit\" : \"count\"})\n",
    "little_reducedpermit_5yr_DF17c = little_reducedpermit_5yr_DF17c.loc[little_reducedpermit_5yr_DF17c['Permit'] >= 10]\n",
    "# x_axis17c = little_reducedpermit_5yr_DF17c['StatusCurrent'].tolist()\n",
    "y_axis17c = little_reducedpermit_5yr_DF17c['Permit'].tolist()\n",
    "\n",
    "little_reducedpermit_5yr_DF16c = reducedpermit_5yr_DF16.loc[reducedpermit_5yr_DF16['Permit'] == 'Commercial', :]\n",
    "little_reducedpermit_5yr_DF16c = little_reducedpermit_5yr_DF16c.groupby('StatusCurrent', as_index=False).agg({\"Permit\" : \"count\"})\n",
    "little_reducedpermit_5yr_DF16c = little_reducedpermit_5yr_DF16c.loc[little_reducedpermit_5yr_DF16c['Permit'] >= 10]\n",
    "# x_axis17c = little_reducedpermit_5yr_DF17c['StatusCurrent'].tolist()\n",
    "y_axis16c = little_reducedpermit_5yr_DF16c['Permit'].tolist()\n",
    "\n",
    "little_reducedpermit_5yr_DF15c = reducedpermit_5yr_DF15.loc[reducedpermit_5yr_DF15['Permit'] == 'Commercial', :]\n",
    "little_reducedpermit_5yr_DF15c = little_reducedpermit_5yr_DF15c.groupby('StatusCurrent', as_index=False).agg({\"Permit\" : \"count\"})\n",
    "little_reducedpermit_5yr_DF15c = little_reducedpermit_5yr_DF15c.loc[little_reducedpermit_5yr_DF15c['Permit'] >= 10]\n",
    "x_axis = little_reducedpermit_5yr_DF15c['StatusCurrent'].tolist()\n",
    "y_axis15c = little_reducedpermit_5yr_DF15c['Permit'].tolist()\n",
    "\n",
    "\n",
    "little_reducedpermit_5yr_DF14c = reducedpermit_5yr_DF14.loc[reducedpermit_5yr_DF14['Permit'] == 'Commercial', :]\n",
    "little_reducedpermit_5yr_DF14c = little_reducedpermit_5yr_DF14c.groupby('StatusCurrent', as_index=False).agg({\"Permit\" : \"count\"})\n",
    "little_reducedpermit_5yr_DF14c = little_reducedpermit_5yr_DF14c.loc[little_reducedpermit_5yr_DF14c['Permit'] >= 10]\n",
    "# x_axis17c = little_reducedpermit_5yr_DF17c['StatusCurrent'].tolist()\n",
    "y_axis14c = little_reducedpermit_5yr_DF14c['Permit'].tolist()\n",
    "\n",
    "little_reducedpermit_5yr_DF13c = reducedpermit_5yr_DF13.loc[reducedpermit_5yr_DF13['Permit'] == 'Commercial', :]\n",
    "little_reducedpermit_5yr_DF13c = little_reducedpermit_5yr_DF13c.groupby('StatusCurrent', as_index=False).agg({\"Permit\" : \"count\"})\n",
    "little_reducedpermit_5yr_DF13c = little_reducedpermit_5yr_DF13c.loc[little_reducedpermit_5yr_DF13c['Permit'] >= 10]\n",
    "# x_axis17c = little_reducedpermit_5yr_DF17c['StatusCurrent'].tolist()\n",
    "y_axis13c = little_reducedpermit_5yr_DF13c['Permit'].tolist()"
   ]
  },
  {
   "cell_type": "code",
   "execution_count": 18,
   "metadata": {},
   "outputs": [
    {
     "data": {
      "image/png": "[encoded data removed]",
      "text/plain": [
       "<Figure size 1440x288 with 1 Axes>"
      ]
     },
     "metadata": {},
     "output_type": "display_data"
    }
   ],
   "source": [
    "import matplotlib.pyplot as plt\n",
    "import matplotlib.colors\n",
    "\n",
    "# Build the plots for new permits by calendar year issued and remodel permits by calendar year issued\n",
    "N = 5\n",
    "ind = np.arange(N)\n",
    "cmaps = ['Blue', 'Green', 'Yellow', 'Purple', 'Aqua','Maroon']\n",
    "\n",
    "\n",
    "# Set plot size\n",
    "plt.figure(figsize=(20, 4))\n",
    "\n",
    "#label for x-axis\n",
    "plt.xlabel(\"Status of Permit\")\n",
    "#label for y-axis\n",
    "plt.ylabel(\"# of Permits \")\n",
    "# Set with of bar\n",
    "width = 0.05       # the width of the bars\n",
    "\n",
    "permitStatus_2018c  = plt.bar(ind-width, y_axis18c, width, color=cmaps[0], align = \"center\", label=\"2018\", edgecolor='blue')\n",
    "permitStatus_2017c  = plt.bar(ind, y_axis17c, width,align=\"center\", color=cmaps[1], label=\"2017\", edgecolor='blue')\n",
    "permitStatus_2016c  = plt.bar(ind + (1*width), y_axis16c, width, color=cmaps[2], align=\"center\", edgecolor='blue', label=\"2016\")\n",
    "permitStatus_2015c = plt.bar(ind + (2*width), y_axis15c, width, color=cmaps[3], align=\"center\", label=\"2015\", edgecolor='blue')\n",
    "permitStatus_2014c = plt.bar(ind + (3*width), y_axis14c, width, color=cmaps[4], align=\"center\", label=\"2014\", edgecolor='blue')\n",
    "permitStatus_2013c = plt.bar(ind + (4*width), y_axis13c, width, color=cmaps[5], align=\"center\", edgecolor='blue', label=\"2013\")\n",
    "\n",
    "# add title to legend and location\n",
    "lgnd = plt.legend(handles = [permitStatus_2018c, permitStatus_2017c, permitStatus_2016c, permitStatus_2015c, permitStatus_2014c, permitStatus_2013c], loc=\"upper right\", title=\"Permit Year\")\n",
    "plt.xticks(ind,x_axis)\n",
    "\n",
    "# make title\n",
    "plt.title(\"Permit Status 2013-2018: Commercial\")\n",
    "\n",
    "# The y limits of our plot is to 0 to 15000\n",
    "plt.ylim(0, 20000)\n",
    "#plt.autoscale(tight=True)\n",
    "\n",
    "\n",
    "# Save Figure\n",
    "plt.savefig(\"Permits_Status_5yr_commercial.png\")"
   ]
  },
  {
   "cell_type": "code",
   "execution_count": 19,
   "metadata": {},
   "outputs": [],
   "source": [
    "# Set up values for Residental Permit Status 2018-13\n",
    "little_reducedpermit_5yr_DF18r = reducedpermit_5yr_DF18.loc[reducedpermit_5yr_DF18['Permit'] == 'Residential', :]\n",
    "little_reducedpermit_5yr_DF18r = little_reducedpermit_5yr_DF18r.groupby('StatusCurrent', as_index=False).agg({\"Permit\" : \"count\"})\n",
    "little_reducedpermit_5yr_DF18r = little_reducedpermit_5yr_DF18r.loc[little_reducedpermit_5yr_DF18r['Permit'] >= 38]\n",
    "x_axis = little_reducedpermit_5yr_DF18r['StatusCurrent'].tolist()\n",
    "y_axis18r = little_reducedpermit_5yr_DF18r['Permit'].tolist()\n",
    "\n",
    "\n",
    "little_reducedpermit_5yr_DF17r = reducedpermit_5yr_DF17.loc[reducedpermit_5yr_DF17['Permit'] == 'Residential', :]\n",
    "little_reducedpermit_5yr_DF17r = little_reducedpermit_5yr_DF17r.groupby('StatusCurrent', as_index=False).agg({\"Permit\" : \"count\"})\n",
    "little_reducedpermit_5yr_DF17r = little_reducedpermit_5yr_DF17r.loc[little_reducedpermit_5yr_DF17r['Permit'] >= 25]\n",
    "# x_axis17c = little_reducedpermit_5yr_DF17c['StatusCurrent'].tolist()\n",
    "y_axis17r = little_reducedpermit_5yr_DF17r['Permit'].tolist()\n",
    "\n",
    "little_reducedpermit_5yr_DF16r = reducedpermit_5yr_DF16.loc[reducedpermit_5yr_DF16['Permit'] == 'Residential', :]\n",
    "little_reducedpermit_5yr_DF16r = little_reducedpermit_5yr_DF16r.groupby('StatusCurrent', as_index=False).agg({\"Permit\" : \"count\"})\n",
    "little_reducedpermit_5yr_DF16r = little_reducedpermit_5yr_DF16r.loc[little_reducedpermit_5yr_DF16r['Permit'] >= 20]\n",
    "# x_axis17c = little_reducedpermit_5yr_DF17c['StatusCurrent'].tolist()\n",
    "y_axis16r = little_reducedpermit_5yr_DF16r['Permit'].tolist()\n",
    "\n",
    "little_reducedpermit_5yr_DF15r = reducedpermit_5yr_DF15.loc[reducedpermit_5yr_DF15['Permit'] == 'Residential', :]\n",
    "little_reducedpermit_5yr_DF15r = little_reducedpermit_5yr_DF15r.groupby('StatusCurrent', as_index=False).agg({\"Permit\" : \"count\"})\n",
    "little_reducedpermit_5yr_DF15r = little_reducedpermit_5yr_DF15r.loc[little_reducedpermit_5yr_DF15r['Permit'] >= 38]\n",
    "x_axis = little_reducedpermit_5yr_DF15r['StatusCurrent'].tolist()\n",
    "y_axis15r = little_reducedpermit_5yr_DF15r['Permit'].tolist()\n",
    "\n",
    "\n",
    "little_reducedpermit_5yr_DF14r = reducedpermit_5yr_DF14.loc[reducedpermit_5yr_DF14['Permit'] == 'Residential', :]\n",
    "little_reducedpermit_5yr_DF14r = little_reducedpermit_5yr_DF14r.groupby('StatusCurrent', as_index=False).agg({\"Permit\" : \"count\"})\n",
    "little_reducedpermit_5yr_DF14r = little_reducedpermit_5yr_DF14r.loc[little_reducedpermit_5yr_DF14r['Permit'] >= 25]\n",
    "# x_axis17c = little_reducedpermit_5yr_DF17c['StatusCurrent'].tolist()\n",
    "y_axis14r = little_reducedpermit_5yr_DF14r['Permit'].tolist()\n",
    "\n",
    "little_reducedpermit_5yr_DF13r = reducedpermit_5yr_DF13.loc[reducedpermit_5yr_DF13['Permit'] == 'Residential', :]\n",
    "little_reducedpermit_5yr_DF13r = little_reducedpermit_5yr_DF13r.groupby('StatusCurrent', as_index=False).agg({\"Permit\" : \"count\"})\n",
    "little_reducedpermit_5yr_DF13r = little_reducedpermit_5yr_DF13r.loc[little_reducedpermit_5yr_DF13r['Permit'] >= 20]\n",
    "# x_axis17c = little_reducedpermit_5yr_DF17c['StatusCurrent'].tolist()\n",
    "y_axis13r = little_reducedpermit_5yr_DF13r['Permit'].tolist()"
   ]
  },
  {
   "cell_type": "code",
   "execution_count": 20,
   "metadata": {},
   "outputs": [
    {
     "data": {
      "image/png": "[encoded data removed]",
      "text/plain": [
       "<Figure size 1440x216 with 1 Axes>"
      ]
     },
     "metadata": {},
     "output_type": "display_data"
    }
   ],
   "source": [
    "# Build the plots for new permits by calendar year issued and remodel permits by calendar year issued\n",
    "N = 5\n",
    "ind = np.arange(N)\n",
    "# x-axis for the two different scatter plots should be years_list\n",
    "# y-axis for the two different scatter plots should be new_permits_completed_by_year and remodel_permits_completed_by_year\n",
    "plt.figure(figsize=(20, 3))\n",
    "#label for x-axis\n",
    "plt.xlabel(\"Status of Permit\")\n",
    "#label for y-axis\n",
    "plt.ylabel(\"# of Permits \")\n",
    "\n",
    "width = 0.15       # the width of the bars\n",
    "\n",
    "# plot the data from each year on plot\n",
    "permitStatus_2018r  = plt.bar(ind-width, y_axis18r, width, color=cmaps[0], align=\"center\", label=\"2018\")\n",
    "permitStatus_2017r  = plt.bar(ind, y_axis17r, width, color=cmaps[1], align=\"center\", label=\"2017\")\n",
    "permitStatus_2016r  = plt.bar(ind + (1*width), y_axis16r, width, color=cmaps[2], align=\"center\", label=\"2016\")\n",
    "permitStatus_2015r = plt.bar(ind + (2*width), y_axis15c, width, color=cmaps[3], align=\"center\", label=\"2015\", edgecolor='blue')\n",
    "permitStatus_2014r = plt.bar(ind + (3*width), y_axis14c, width, color=cmaps[4], align=\"center\", label=\"2014\", edgecolor='blue')\n",
    "permitStatus_2013r = plt.bar(ind + (4*width), y_axis13c, width, color=cmaps[5], align=\"center\", edgecolor='blue', label=\"2013\")\n",
    "\n",
    "# add title to legend and location\n",
    "lgnd = plt.legend(handles = [permitStatus_2018c, permitStatus_2017c, permitStatus_2016c, permitStatus_2015c, permitStatus_2014c, permitStatus_2013c], loc=\"upper right\", title=\"Permit Year\")\n",
    "plt.xticks(ind,x_axis)\n",
    "\n",
    "# make title\n",
    "plt.title(\"Permit Status 2013-2018: Residential\")\n",
    "\n",
    "# The y limits of our plot is to 0 to 15000\n",
    "plt.ylim(0, 50000)\n",
    "# plt.autoscale(tight=True)\n",
    "\n",
    "\n",
    "# Save Figure\n",
    "plt.savefig(\"Permits_Status_5yr_Residential.png\")"
   ]
  },
  {
   "cell_type": "code",
   "execution_count": null,
   "metadata": {},
   "outputs": [],
   "source": []
  },
  {
   "cell_type": "code",
   "execution_count": null,
   "metadata": {},
   "outputs": [],
   "source": []
  }
 ],
 "metadata": {
  "kernelspec": {
   "display_name": "Python [default]",
   "language": "python",
   "name": "python3"
  },
  "language_info": {
   "codemirror_mode": {
    "name": "ipython",
    "version": 3
   },
   "file_extension": ".py",
   "mimetype": "text/x-python",
   "name": "python",
   "nbconvert_exporter": "python",
   "pygments_lexer": "ipython3",
   "version": "3.6.5"
  }
 },
 "nbformat": 4,
 "nbformat_minor": 2
}
