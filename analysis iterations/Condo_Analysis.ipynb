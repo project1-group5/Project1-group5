{
 "cells": [
  {
   "cell_type": "code",
   "execution_count": 27,
   "metadata": {},
   "outputs": [],
   "source": [
    "# dependencies\n",
    "import pandas as pd\n",
    "import os\n",
    "import matplotlib.pyplot as plt\n",
    "import numpy as np"
   ]
  },
  {
   "cell_type": "code",
   "execution_count": 2,
   "metadata": {},
   "outputs": [],
   "source": [
    "# csv path saved to variable-- will need to change the final directory\n",
    "data = \"Resources/Construction_Permits_Issued_since_2010.csv\""
   ]
  },
  {
   "cell_type": "code",
   "execution_count": 3,
   "metadata": {
    "scrolled": false
   },
   "outputs": [
    {
     "name": "stderr",
     "output_type": "stream",
     "text": [
      "/anaconda3/lib/python3.6/site-packages/IPython/core/interactiveshell.py:2785: DtypeWarning: Columns (25,26,36) have mixed types. Specify dtype option on import or set low_memory=False.\n",
      "  interactivity=interactivity, compiler=compiler, result=result)\n"
     ]
    }
   ],
   "source": [
    "# Read and display the CSV with Pandas\n",
    "development_data_pd = pd.read_csv(data)"
   ]
  },
  {
   "cell_type": "markdown",
   "metadata": {},
   "source": [
    "DATA CLEAN UP"
   ]
  },
  {
   "cell_type": "code",
   "execution_count": 4,
   "metadata": {},
   "outputs": [],
   "source": [
    "# filter to past 5 years\n",
    "filtered_5y_df = development_data_pd.loc[development_data_pd['CalendarYearIssued'] >= 2013, : ]"
   ]
  },
  {
   "cell_type": "code",
   "execution_count": 5,
   "metadata": {
    "scrolled": true
   },
   "outputs": [],
   "source": [
    "# Only final or active status projects...\n",
    "filtered_5y_status_df = filtered_5y_df.loc[(filtered_5y_df['StatusCurrent'] == 'Final') | (filtered_5y_df['StatusCurrent'] == 'Active'), : ].reset_index(drop=True)"
   ]
  },
  {
   "cell_type": "code",
   "execution_count": 6,
   "metadata": {},
   "outputs": [],
   "source": [
    "# Only Condominium == Yes\n",
    "Condo_5y_status_df = filtered_5y_status_df.loc[(filtered_5y_status_df['Condominium'] == 'Yes')]"
   ]
  },
  {
   "cell_type": "code",
   "execution_count": 40,
   "metadata": {
    "scrolled": true
   },
   "outputs": [
    {
     "name": "stderr",
     "output_type": "stream",
     "text": [
      "/anaconda3/lib/python3.6/site-packages/ipykernel/__main__.py:11: SettingWithCopyWarning: \n",
      "A value is trying to be set on a copy of a slice from a DataFrame.\n",
      "Try using .loc[row_indexer,col_indexer] = value instead\n",
      "\n",
      "See the caveats in the documentation: http://pandas.pydata.org/pandas-docs/stable/indexing.html#indexing-view-versus-copy\n"
     ]
    },
    {
     "data": {
      "text/html": [
       "<div>\n",
       "<style scoped>\n",
       "    .dataframe tbody tr th:only-of-type {\n",
       "        vertical-align: middle;\n",
       "    }\n",
       "\n",
       "    .dataframe tbody tr th {\n",
       "        vertical-align: top;\n",
       "    }\n",
       "\n",
       "    .dataframe thead th {\n",
       "        text-align: right;\n",
       "    }\n",
       "</style>\n",
       "<table border=\"1\" class=\"dataframe\">\n",
       "  <thead>\n",
       "    <tr style=\"text-align: right;\">\n",
       "      <th></th>\n",
       "      <th>Description</th>\n",
       "      <th>CalendarYearIssued</th>\n",
       "      <th>Condominium</th>\n",
       "      <th>OriginalZip</th>\n",
       "      <th>StatusCurrent</th>\n",
       "    </tr>\n",
       "  </thead>\n",
       "  <tbody>\n",
       "    <tr>\n",
       "      <th>3285</th>\n",
       "      <td>New 2story Condominium Residence with attached...</td>\n",
       "      <td>2013</td>\n",
       "      <td>Yes</td>\n",
       "      <td>78744</td>\n",
       "      <td>Final</td>\n",
       "    </tr>\n",
       "    <tr>\n",
       "      <th>3286</th>\n",
       "      <td>New 2story Condominium Residence with attached...</td>\n",
       "      <td>2013</td>\n",
       "      <td>Yes</td>\n",
       "      <td>78744</td>\n",
       "      <td>Final</td>\n",
       "    </tr>\n",
       "    <tr>\n",
       "      <th>3287</th>\n",
       "      <td>NEW 2 STORY SF CONDO WITH ATTACHED GARAGE COVE...</td>\n",
       "      <td>2013</td>\n",
       "      <td>Yes</td>\n",
       "      <td>78744</td>\n",
       "      <td>Final</td>\n",
       "    </tr>\n",
       "    <tr>\n",
       "      <th>3288</th>\n",
       "      <td>New 2story Condominium Residence with attached...</td>\n",
       "      <td>2013</td>\n",
       "      <td>Yes</td>\n",
       "      <td>78744</td>\n",
       "      <td>Final</td>\n",
       "    </tr>\n",
       "    <tr>\n",
       "      <th>3289</th>\n",
       "      <td>New 2story Condominium Residence with attached...</td>\n",
       "      <td>2013</td>\n",
       "      <td>Yes</td>\n",
       "      <td>78744</td>\n",
       "      <td>Final</td>\n",
       "    </tr>\n",
       "  </tbody>\n",
       "</table>\n",
       "</div>"
      ],
      "text/plain": [
       "                                            Description  CalendarYearIssued  \\\n",
       "3285  New 2story Condominium Residence with attached...                2013   \n",
       "3286  New 2story Condominium Residence with attached...                2013   \n",
       "3287  NEW 2 STORY SF CONDO WITH ATTACHED GARAGE COVE...                2013   \n",
       "3288  New 2story Condominium Residence with attached...                2013   \n",
       "3289  New 2story Condominium Residence with attached...                2013   \n",
       "\n",
       "     Condominium  OriginalZip StatusCurrent  \n",
       "3285         Yes        78744         Final  \n",
       "3286         Yes        78744         Final  \n",
       "3287         Yes        78744         Final  \n",
       "3288         Yes        78744         Final  \n",
       "3289         Yes        78744         Final  "
      ]
     },
     "execution_count": 40,
     "metadata": {},
     "output_type": "execute_result"
    }
   ],
   "source": [
    "# Reduce columns\n",
    "Condo_5y_Columns_df = Condo_5y_status_df[[\n",
    "    'Description',\n",
    "    'CalendarYearIssued',\n",
    "    'Condominium', \n",
    "    'OriginalZip',\n",
    "    'StatusCurrent']]\n",
    "Condo_5y_Columns_df.head()\n",
    "\n",
    "# Make zip code an integer\n",
    "Condo_5y_Columns_df[\"OriginalZip\"] = Condo_5y_Columns_df[\"OriginalZip\"].astype(int)\n",
    "Condo_5y_Columns_df.head()"
   ]
  },
  {
   "cell_type": "code",
   "execution_count": 8,
   "metadata": {},
   "outputs": [],
   "source": [
    "# # there are 34 zip codes\n",
    "# Condo_5y_Columns_df = Condo_5y_Columns_df[\"OriginalZip\"].unique()\n",
    "# Condo_5y_Columns_df"
   ]
  },
  {
   "cell_type": "code",
   "execution_count": 43,
   "metadata": {},
   "outputs": [],
   "source": [
    "# Group by zip code and count\n",
    "Grouped_Condo_5y_Columns_df = Condo_5y_Columns_df.groupby(['OriginalZip']).count()"
   ]
  },
  {
   "cell_type": "code",
   "execution_count": 44,
   "metadata": {
    "scrolled": false
   },
   "outputs": [
    {
     "data": {
      "text/html": [
       "<div>\n",
       "<style scoped>\n",
       "    .dataframe tbody tr th:only-of-type {\n",
       "        vertical-align: middle;\n",
       "    }\n",
       "\n",
       "    .dataframe tbody tr th {\n",
       "        vertical-align: top;\n",
       "    }\n",
       "\n",
       "    .dataframe thead th {\n",
       "        text-align: right;\n",
       "    }\n",
       "</style>\n",
       "<table border=\"1\" class=\"dataframe\">\n",
       "  <thead>\n",
       "    <tr style=\"text-align: right;\">\n",
       "      <th></th>\n",
       "      <th>Description</th>\n",
       "      <th>CalendarYearIssued</th>\n",
       "      <th>Condominium</th>\n",
       "      <th>StatusCurrent</th>\n",
       "    </tr>\n",
       "    <tr>\n",
       "      <th>OriginalZip</th>\n",
       "      <th></th>\n",
       "      <th></th>\n",
       "      <th></th>\n",
       "      <th></th>\n",
       "    </tr>\n",
       "  </thead>\n",
       "  <tbody>\n",
       "    <tr>\n",
       "      <th>78617</th>\n",
       "      <td>1</td>\n",
       "      <td>1</td>\n",
       "      <td>1</td>\n",
       "      <td>1</td>\n",
       "    </tr>\n",
       "    <tr>\n",
       "      <th>78652</th>\n",
       "      <td>225</td>\n",
       "      <td>225</td>\n",
       "      <td>225</td>\n",
       "      <td>225</td>\n",
       "    </tr>\n",
       "    <tr>\n",
       "      <th>78653</th>\n",
       "      <td>1</td>\n",
       "      <td>1</td>\n",
       "      <td>1</td>\n",
       "      <td>1</td>\n",
       "    </tr>\n",
       "    <tr>\n",
       "      <th>78660</th>\n",
       "      <td>244</td>\n",
       "      <td>244</td>\n",
       "      <td>244</td>\n",
       "      <td>244</td>\n",
       "    </tr>\n",
       "    <tr>\n",
       "      <th>78702</th>\n",
       "      <td>62</td>\n",
       "      <td>62</td>\n",
       "      <td>62</td>\n",
       "      <td>62</td>\n",
       "    </tr>\n",
       "  </tbody>\n",
       "</table>\n",
       "</div>"
      ],
      "text/plain": [
       "             Description  CalendarYearIssued  Condominium  StatusCurrent\n",
       "OriginalZip                                                             \n",
       "78617                  1                   1            1              1\n",
       "78652                225                 225          225            225\n",
       "78653                  1                   1            1              1\n",
       "78660                244                 244          244            244\n",
       "78702                 62                  62           62             62"
      ]
     },
     "execution_count": 44,
     "metadata": {},
     "output_type": "execute_result"
    }
   ],
   "source": [
    "# Order zip codes\n",
    "Grouped_Order_Condo_5y_Columns_df = Grouped_Condo_5y_Columns_df.sort_values([\"OriginalZip\"], ascending=True)\n",
    "Grouped_Order_Condo_5y_Columns_df.head()"
   ]
  },
  {
   "cell_type": "code",
   "execution_count": 77,
   "metadata": {
    "scrolled": true
   },
   "outputs": [
    {
     "data": {
      "image/png": "[encoded data removed]",
      "text/plain": [
       "<Figure size 720x576 with 1 Axes>"
      ]
     },
     "metadata": {},
     "output_type": "display_data"
    }
   ],
   "source": [
    "# where condos are being permitted to be built  \n",
    "# Make a bar graph, with a bar for each zip code...see 1.7 Matplotlib\n",
    "labels = Grouped_Order_Condo_5y_Columns_df.index.values\n",
    "y = Grouped_Order_Condo_5y_Columns_df['Description']\n",
    "\n",
    "fig = plt.figure(figsize=(10,8))\n",
    "\n",
    "ax = fig.add_subplot(111)\n",
    "ax.barh(np.arange(0, 34, 1), y, align = 'center')  \n",
    "ax.set_yticks(np.arange(0, 34, 1))\n",
    "ax.set_yticklabels(labels)\n",
    "\n",
    "# Give our chart some labels and a tile\n",
    "plt.title(\"New Condo Projects in each Zip code\")\n",
    "plt.xlabel(\"Number of Condo Projects\")\n",
    "plt.ylabel(\"Zip codes\")\n",
    "\n",
    "plt.savefig(\"Resources/CondoLocations.png\")"
   ]
  },
  {
   "cell_type": "code",
   "execution_count": null,
   "metadata": {},
   "outputs": [],
   "source": []
  }
 ],
 "metadata": {
  "kernelspec": {
   "display_name": "Python 3",
   "language": "python",
   "name": "python3"
  },
  "language_info": {
   "codemirror_mode": {
    "name": "ipython",
    "version": 3
   },
   "file_extension": ".py",
   "mimetype": "text/x-python",
   "name": "python",
   "nbconvert_exporter": "python",
   "pygments_lexer": "ipython3",
   "version": "3.6.5"
  }
 },
 "nbformat": 4,
 "nbformat_minor": 2
}
