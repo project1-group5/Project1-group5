{
 "cells": [
  {
   "cell_type": "code",
   "execution_count": 2,
   "metadata": {
    "collapsed": true
   },
   "outputs": [],
   "source": [
    "# dependencies\n",
    "import pandas as pd\n",
    "import os\n",
    "import matplotlib.pyplot as plt"
   ]
  },
  {
   "cell_type": "code",
   "execution_count": 3,
   "metadata": {},
   "outputs": [
    {
     "name": "stderr",
     "output_type": "stream",
     "text": [
      "/Users/arjen/anaconda3/lib/python3.6/site-packages/IPython/core/interactiveshell.py:2698: DtypeWarning: Columns (25,26,36) have mixed types. Specify dtype option on import or set low_memory=False.\n",
      "  interactivity=interactivity, compiler=compiler, result=result)\n"
     ]
    }
   ],
   "source": [
    "# csv path saved to variable-- will need to chaange the final directory\n",
    "data = \"~/Desktop/Construction_Permits_Issued_since_2010.csv\"\n",
    "\n",
    "# Read and display the CSV with Pandas\n",
    "development_data_pd = pd.read_csv(data)"
   ]
  },
  {
   "cell_type": "code",
   "execution_count": 4,
   "metadata": {
    "collapsed": true
   },
   "outputs": [],
   "source": [
    "# filter to past 5 years\n",
    "filtered_5y_DF = development_data_pd.loc[development_data_pd['CalendarYearIssued'] >= 2013, : ]"
   ]
  },
  {
   "cell_type": "code",
   "execution_count": 5,
   "metadata": {},
   "outputs": [
    {
     "name": "stderr",
     "output_type": "stream",
     "text": [
      "/Users/arjen/anaconda3/lib/python3.6/site-packages/ipykernel_launcher.py:27: SettingWithCopyWarning: \n",
      "A value is trying to be set on a copy of a slice from a DataFrame.\n",
      "Try using .loc[row_indexer,col_indexer] = value instead\n",
      "\n",
      "See the caveats in the documentation: http://pandas.pydata.org/pandas-docs/stable/indexing.html#indexing-view-versus-copy\n",
      "/Users/arjen/anaconda3/lib/python3.6/site-packages/ipykernel_launcher.py:28: SettingWithCopyWarning: \n",
      "A value is trying to be set on a copy of a slice from a DataFrame.\n",
      "Try using .loc[row_indexer,col_indexer] = value instead\n",
      "\n",
      "See the caveats in the documentation: http://pandas.pydata.org/pandas-docs/stable/indexing.html#indexing-view-versus-copy\n"
     ]
    },
    {
     "data": {
      "text/plain": [
       "Final     294645\n",
       "Active     35002\n",
       "Name: StatusCurrent, dtype: int64"
      ]
     },
     "execution_count": 5,
     "metadata": {},
     "output_type": "execute_result"
    }
   ],
   "source": [
    "# Reduce data points\n",
    "reduced_5yr_DF = filtered_5y_DF[[\n",
    "    'PermitTypeDesc', \n",
    "    'PermitClass', \n",
    "    'WorkClass', \n",
    "    'Condominium', \n",
    "    'IssuedDate', \n",
    "    'CalendarYearIssued', \n",
    "    'StatusCurrent',\n",
    "    'OriginalAddress1',\n",
    "    'OriginalCity',\n",
    "    'OriginalZip',\n",
    "    'ProjectID',\n",
    "    'Latitude',\n",
    "    'Longitude',\n",
    "    'Location']]\n",
    "\n",
    "# filter data to 'StatusSurrent = Final' for analyses of ACTIVE OR COMPLETED PROJECTS\n",
    "# reset index and drop original index\n",
    "filter_status = reduced_5yr_DF.loc[(reduced_5yr_DF['StatusCurrent'] == 'Final') | (reduced_5yr_DF['StatusCurrent'] == 'Active'), : ].reset_index(drop=True)\n",
    "\n",
    "# filtered out 'sign permits'\n",
    "final_5y_DF = filter_status.loc[filter_status['PermitClass'] != 'Sign Permit', : ]\n",
    "\n",
    "# re-code 'permitClass' to standardized values\n",
    "# this creates 1 new series coded with T/F for 'begins with C'\n",
    "final_5y_DF['PermitClass_Commercial'] = final_5y_DF.PermitClass.str.startswith('C')\n",
    "final_5y_DF['PermitClass_Residential'] = final_5y_DF.PermitClass.str.startswith('R')\n",
    "\n",
    "final_5y_DF['StatusCurrent'].value_counts()"
   ]
  },
  {
   "cell_type": "code",
   "execution_count": 9,
   "metadata": {},
   "outputs": [
    {
     "data": {
      "text/html": [
       "<div>\n",
       "<style>\n",
       "    .dataframe thead tr:only-child th {\n",
       "        text-align: right;\n",
       "    }\n",
       "\n",
       "    .dataframe thead th {\n",
       "        text-align: left;\n",
       "    }\n",
       "\n",
       "    .dataframe tbody tr th {\n",
       "        vertical-align: top;\n",
       "    }\n",
       "</style>\n",
       "<table border=\"1\" class=\"dataframe\">\n",
       "  <thead>\n",
       "    <tr style=\"text-align: right;\">\n",
       "      <th></th>\n",
       "      <th>CalendarYearIssued</th>\n",
       "      <th>OriginalZip</th>\n",
       "    </tr>\n",
       "  </thead>\n",
       "  <tbody>\n",
       "    <tr>\n",
       "      <th>0</th>\n",
       "      <td>2013</td>\n",
       "      <td>78701.0</td>\n",
       "    </tr>\n",
       "    <tr>\n",
       "      <th>1</th>\n",
       "      <td>2013</td>\n",
       "      <td>78756.0</td>\n",
       "    </tr>\n",
       "    <tr>\n",
       "      <th>2</th>\n",
       "      <td>2013</td>\n",
       "      <td>78735.0</td>\n",
       "    </tr>\n",
       "    <tr>\n",
       "      <th>3</th>\n",
       "      <td>2013</td>\n",
       "      <td>78723.0</td>\n",
       "    </tr>\n",
       "    <tr>\n",
       "      <th>4</th>\n",
       "      <td>2013</td>\n",
       "      <td>78736.0</td>\n",
       "    </tr>\n",
       "  </tbody>\n",
       "</table>\n",
       "</div>"
      ],
      "text/plain": [
       "   CalendarYearIssued  OriginalZip\n",
       "0                2013      78701.0\n",
       "1                2013      78756.0\n",
       "2                2013      78735.0\n",
       "3                2013      78723.0\n",
       "4                2013      78736.0"
      ]
     },
     "execution_count": 9,
     "metadata": {},
     "output_type": "execute_result"
    }
   ],
   "source": [
    "#New DF with only year issued and zip codes\n",
    "zip_year_DF = final_5y_DF[[\"CalendarYearIssued\",\"OriginalZip\"]]\n",
    "zip_year_DF.head()"
   ]
  },
  {
   "cell_type": "code",
   "execution_count": 12,
   "metadata": {},
   "outputs": [],
   "source": [
    "#Export into csv to be able to use for heatmap\n",
    "zip_year_DF.to_csv(\"~/Desktop/zip_year.csv\",\n",
    "                  encoding=\"utf-8\", index=False, header=True)"
   ]
  },
  {
   "cell_type": "code",
   "execution_count": 14,
   "metadata": {},
   "outputs": [
    {
     "data": {
      "text/plain": [
       "78704.0    21499\n",
       "78745.0    15225\n",
       "78744.0    15214\n",
       "78702.0    15082\n",
       "78723.0    14583\n",
       "78757.0    13608\n",
       "78703.0    12980\n",
       "78748.0    12198\n",
       "78717.0    12086\n",
       "78731.0    12036\n",
       "78759.0    11552\n",
       "78754.0    11072\n",
       "78701.0    10752\n",
       "78753.0     9695\n",
       "78746.0     9358\n",
       "78758.0     9022\n",
       "78747.0     8875\n",
       "78741.0     8711\n",
       "78749.0     6720\n",
       "78739.0     6719\n",
       "78660.0     6324\n",
       "78727.0     6166\n",
       "78724.0     6092\n",
       "78705.0     5623\n",
       "78750.0     5610\n",
       "78751.0     5515\n",
       "78721.0     4991\n",
       "78735.0     4714\n",
       "78617.0     4474\n",
       "78756.0     4401\n",
       "78752.0     4237\n",
       "78730.0     3752\n",
       "78729.0     3372\n",
       "78726.0     3109\n",
       "78722.0     3003\n",
       "78652.0     2957\n",
       "78725.0     2778\n",
       "78653.0     2147\n",
       "78738.0     2079\n",
       "78736.0     2058\n",
       "78734.0     1898\n",
       "78732.0     1678\n",
       "78728.0     1534\n",
       "78613.0     1266\n",
       "78733.0      913\n",
       "78719.0      749\n",
       "78737.0      431\n",
       "78742.0      184\n",
       "78610.0        8\n",
       "78681.0        7\n",
       "78712.0        6\n",
       "78641.0        2\n",
       "78664.0        1\n",
       "78645.0        1\n",
       "78669.0        1\n",
       "Name: OriginalZip, dtype: int64"
      ]
     },
     "execution_count": 14,
     "metadata": {},
     "output_type": "execute_result"
    }
   ],
   "source": [
    "#How are permits distributed in Austin\n",
    "zip_counts = zip_year_DF[\"OriginalZip\"].value_counts()\n",
    "zip_counts"
   ]
  },
  {
   "cell_type": "code",
   "execution_count": 15,
   "metadata": {},
   "outputs": [
    {
     "data": {
      "text/plain": [
       "2017    61624\n",
       "2016    58879\n",
       "2013    54643\n",
       "2015    54514\n",
       "2014    54445\n",
       "2018    45542\n",
       "Name: CalendarYearIssued, dtype: int64"
      ]
     },
     "execution_count": 15,
     "metadata": {},
     "output_type": "execute_result"
    }
   ],
   "source": [
    "#How many permits per year\n",
    "year_issued = zip_year_DF[\"CalendarYearIssued\"].value_counts()\n",
    "year_issued"
   ]
  },
  {
   "cell_type": "code",
   "execution_count": null,
   "metadata": {
    "collapsed": true
   },
   "outputs": [],
   "source": []
  }
 ],
 "metadata": {
  "kernelspec": {
   "display_name": "Python 3",
   "language": "python",
   "name": "python3"
  },
  "language_info": {
   "codemirror_mode": {
    "name": "ipython",
    "version": 3
   },
   "file_extension": ".py",
   "mimetype": "text/x-python",
   "name": "python",
   "nbconvert_exporter": "python",
   "pygments_lexer": "ipython3",
   "version": "3.6.3"
  }
 },
 "nbformat": 4,
 "nbformat_minor": 2
}
