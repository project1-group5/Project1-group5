{
 "cells": [
  {
   "cell_type": "code",
   "execution_count": 1,
   "metadata": {},
   "outputs": [],
   "source": [
    "# dependencies\n",
    "import pandas as pd\n",
    "import os\n",
    "import matplotlib.pyplot as plt"
   ]
  },
  {
   "cell_type": "code",
   "execution_count": 2,
   "metadata": {},
   "outputs": [
    {
     "name": "stderr",
     "output_type": "stream",
     "text": [
      "C:\\Users\\Honky\\Anaconda3\\lib\\site-packages\\IPython\\core\\interactiveshell.py:2785: DtypeWarning: Columns (25,26,36) have mixed types. Specify dtype option on import or set low_memory=False.\n",
      "  interactivity=interactivity, compiler=compiler, result=result)\n"
     ]
    }
   ],
   "source": [
    "# csv path saved to variable-- will need to chaange the final directory\n",
    "data = \"~/Desktop/Construction_Permits_Issued_since_2010.csv\"\n",
    "\n",
    "# Read and display the CSV with Pandas\n",
    "development_data_pd = pd.read_csv(data)"
   ]
  },
  {
   "cell_type": "code",
   "execution_count": 3,
   "metadata": {},
   "outputs": [],
   "source": [
    "# filter to past 5 years\n",
    "filtered_5y_DF = development_data_pd.loc[development_data_pd['CalendarYearIssued'] >= 2013, : ]"
   ]
  },
  {
   "cell_type": "code",
   "execution_count": 14,
   "metadata": {},
   "outputs": [
    {
     "name": "stderr",
     "output_type": "stream",
     "text": [
      "C:\\Users\\Honky\\Anaconda3\\lib\\site-packages\\ipykernel_launcher.py:27: SettingWithCopyWarning: \n",
      "A value is trying to be set on a copy of a slice from a DataFrame.\n",
      "Try using .loc[row_indexer,col_indexer] = value instead\n",
      "\n",
      "See the caveats in the documentation: http://pandas.pydata.org/pandas-docs/stable/indexing.html#indexing-view-versus-copy\n",
      "C:\\Users\\Honky\\Anaconda3\\lib\\site-packages\\ipykernel_launcher.py:28: SettingWithCopyWarning: \n",
      "A value is trying to be set on a copy of a slice from a DataFrame.\n",
      "Try using .loc[row_indexer,col_indexer] = value instead\n",
      "\n",
      "See the caveats in the documentation: http://pandas.pydata.org/pandas-docs/stable/indexing.html#indexing-view-versus-copy\n"
     ]
    },
    {
     "data": {
      "text/plain": [
       "Final     294645\n",
       "Active     35002\n",
       "Name: StatusCurrent, dtype: int64"
      ]
     },
     "execution_count": 14,
     "metadata": {},
     "output_type": "execute_result"
    }
   ],
   "source": [
    "# Reduce data points\n",
    "reduced_5yr_DF = filtered_5y_DF[[\n",
    "    'PermitTypeDesc', \n",
    "    'PermitClass', \n",
    "    'WorkClass', \n",
    "    'Condominium', \n",
    "    'IssuedDate', \n",
    "    'CalendarYearIssued', \n",
    "    'StatusCurrent',\n",
    "    'OriginalAddress1',\n",
    "    'OriginalCity',\n",
    "    'OriginalZip',\n",
    "    'ProjectID',\n",
    "    'Latitude',\n",
    "    'Longitude',\n",
    "    'Location']]\n",
    "\n",
    "# filter data to 'StatusSurrent = Final' for analyses of ACTIVE OR COMPLETED PROJECTS\n",
    "# reset index and drop original index\n",
    "filter_status = reduced_5yr_DF.loc[(reduced_5yr_DF['StatusCurrent'] == 'Final') | (reduced_5yr_DF['StatusCurrent'] == 'Active'), : ].reset_index(drop=True)\n",
    "\n",
    "# filtered out 'sign permits'\n",
    "final_5y_DF = filter_status.loc[filter_status['PermitClass'] != 'Sign Permit', : ]\n",
    "\n",
    "# re-code 'permitClass' to standardized values\n",
    "# this creates 1 new series coded with T/F for 'begins with C'\n",
    "final_5y_DF['PermitClass_Commercial'] = final_5y_DF.PermitClass.str.startswith('C')\n",
    "final_5y_DF['PermitClass_Residential'] = final_5y_DF.PermitClass.str.startswith('R')\n",
    "\n",
    "final_5y_DF['StatusCurrent'].value_counts()"
   ]
  },
  {
   "cell_type": "code",
   "execution_count": 17,
   "metadata": {},
   "outputs": [
    {
     "data": {
      "text/plain": [
       "CalendarYearIssued\n",
       "2013    17210\n",
       "2014    15697\n",
       "2015    15899\n",
       "2016    14393\n",
       "2017    14769\n",
       "2018    11032\n",
       "Name: PermitClass_Commercial, dtype: int64"
      ]
     },
     "execution_count": 17,
     "metadata": {},
     "output_type": "execute_result"
    }
   ],
   "source": [
    "# extracting commerical projects per year\n",
    "commercial_df = final_5y_DF.loc[final_5y_DF['PermitClass_Commercial'] == True, : ]\n",
    "commercial_grouped = commercial_df.groupby(\"CalendarYearIssued\")\n",
    "comm_count = commercial_grouped['PermitClass_Commercial'].count()\n",
    "comm_list = comm_count.tolist()\n",
    "years = comm_count.keys()\n",
    "\n",
    "comm_count"
   ]
  },
  {
   "cell_type": "code",
   "execution_count": 26,
   "metadata": {},
   "outputs": [
    {
     "data": {
      "text/plain": [
       "CalendarYearIssued\n",
       "2013    37433\n",
       "2014    38748\n",
       "2015    38614\n",
       "2016    44486\n",
       "2017    46855\n",
       "2018    34510\n",
       "Name: PermitClass_Residential, dtype: int64"
      ]
     },
     "execution_count": 26,
     "metadata": {},
     "output_type": "execute_result"
    }
   ],
   "source": [
    "# extracting residential projects per year\n",
    "residential_df = final_5y_DF.loc[final_5y_DF['PermitClass_Residential'] == True, : ]\n",
    "residential_grouped = residential_df.groupby(\"CalendarYearIssued\")\n",
    "res_count = residential_grouped['PermitClass_Residential'].count()\n",
    "res_list = res_count.tolist()\n",
    "res_count"
   ]
  },
  {
   "cell_type": "code",
   "execution_count": 36,
   "metadata": {},
   "outputs": [
    {
     "data": {
      "image/png": "[encoded data removed]",
      "text/plain": [
       "<Figure size 432x288 with 1 Axes>"
      ]
     },
     "metadata": {},
     "output_type": "display_data"
    }
   ],
   "source": [
    "# plot data\n",
    "plt.plot(years, res_list, label = 'residential')\n",
    "plt.plot(years, comm_list, label = 'commercial')\n",
    "\n",
    "# plot elements\n",
    "plt.title(\"Real Estate Development Projects Since 2013\")\n",
    "plt.xlabel(\"Years\")\n",
    "plt.ylabel(\"Completed and Active Projects\")\n",
    "plt.legend(loc='best')\n",
    "plt.show()\n",
    "\n",
    "# need to add line to export as image"
   ]
  },
  {
   "cell_type": "code",
   "execution_count": null,
   "metadata": {},
   "outputs": [],
   "source": []
  }
 ],
 "metadata": {
  "kernelspec": {
   "display_name": "Python 3",
   "language": "python",
   "name": "python3"
  },
  "language_info": {
   "codemirror_mode": {
    "name": "ipython",
    "version": 3
   },
   "file_extension": ".py",
   "mimetype": "text/x-python",
   "name": "python",
   "nbconvert_exporter": "python",
   "pygments_lexer": "ipython3",
   "version": "3.6.5"
  }
 },
 "nbformat": 4,
 "nbformat_minor": 2
}
